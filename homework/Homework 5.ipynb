{
 "cells": [
  {
   "cell_type": "markdown",
   "metadata": {},
   "source": [
    "# Homework 5\n",
    "\n",
    "## FINM 36700 - 2024\n",
    "\n",
    "### UChicago Financial Mathematics\n",
    "\n",
    "* Mark Hendricks\n",
    "* hendricks@uchicago.edu"
   ]
  },
  {
   "cell_type": "markdown",
   "metadata": {},
   "source": [
    "***"
   ]
  },
  {
   "cell_type": "markdown",
   "metadata": {},
   "source": [
    "# Section 1: Harvard Case\n",
    "\n",
    "*This section will not be graded, but it will be discussed in class.*\n",
    "\n",
    "**Smart Beta Exchange-Traded-Funds and Factor Investing**.\n",
    "\n",
    "* The case is a good introduction to important pricing factors.\n",
    "* It also gives useful introduction and context to ETFs, passive vs active investing, and so-called “smart beta” funds."
   ]
  },
  {
   "cell_type": "markdown",
   "metadata": {},
   "source": [
    "1. Describe how each of the factors (other than MKT) is measured.1That is, each factor is a portfolio of stocks–which stocks are included in the factor portfolio?\n",
    "\n",
    "2. Is the factor portfolio...\n",
    "* long-only\n",
    "* long-short\n",
    "* value-weighted\n",
    "* equally-weighted\n",
    "\n",
    "4. What steps are taken in the factor construction to try to reduce the correlation between the factors?\n",
    "5. What is the point of figures 1-6?\n",
    "6. How is a “smart beta” ETF different from a traditional ETF?\n",
    "7. Is it possible for all investors to have exposure to the “value” factor?\n",
    "8. How does factor investing differ from traditional diversification?\n",
    "\n",
    "\n",
    "If you need more info in how these factor portfolios are created, see Ken French’s website, and the follow- details: \n",
    "\n",
    "https://mba.tuck.dartmouth.edu/pages/faculty/ken.french/Data_Library/f-f_5_factors_2x3.html\n",
    "\n",
    "https://mba.tuck.dartmouth.edu/pages/faculty/ken.french/Data_Library/det_mom_factor.html"
   ]
  },
  {
   "cell_type": "markdown",
   "metadata": {},
   "source": [
    "***"
   ]
  },
  {
   "cell_type": "markdown",
   "metadata": {},
   "source": [
    "# 2. The Factors\n",
    "\n",
    "Use the data found in `factor_pricing_data.xlsx`.\n",
    "\n",
    "* FACTORS: Monthly excess return data for the overall equity market, $\\tilde{r}^{\\text{MKT}}$.\n",
    "* The column header to the market factor is `MKT` rather than `MKT-RF`, but it is indeed already in excess return form.\n",
    "* The sheet also contains data on five additional factors.\n",
    "* All factor data is already provided as excess returns"
   ]
  },
  {
   "cell_type": "markdown",
   "metadata": {},
   "source": [
    "1. Analyze the factors, similar to how you analyzed the three Fama-French factors in Homework 4.\n",
    "You now have three additional factors, so let’s compare there univariate statistics. • mean\n",
    "• volatility\n",
    "• Sharpe\n",
    "\n",
    "2. Based on the factor statistics above, answer the following.\n",
    "(a) Does each factor have a positive risk premium (positive expected excess return)? (b) How have the factors performed since the time of the case, (2015-present)?\n",
    "\n",
    "3. Report the correlation matrix across the six factors.\n",
    "* Does the construction method succeed in keeping correlations small?\n",
    "* Fama and French say that HML is somewhat redundant in their 5-factor model. Does this seem to be the case?\n",
    "\n",
    "4. Report the tangency weights for a portfolio of these 6 factors.\n",
    "* Which factors seem most important? And Least?\n",
    "* Are the factors with low mean returns still useful?\n",
    "* Re-do the tangency portfolio, but this time only include MKT, SMB, HML, and UMD. Which factors get high/low tangency weights now?\n",
    "\n",
    "What do you conclude about the importance or unimportance of these styles?"
   ]
  },
  {
   "cell_type": "code",
   "execution_count": 18,
   "metadata": {},
   "outputs": [
    {
     "data": {
      "text/html": [
       "<div>\n",
       "<style scoped>\n",
       "    .dataframe tbody tr th:only-of-type {\n",
       "        vertical-align: middle;\n",
       "    }\n",
       "\n",
       "    .dataframe tbody tr th {\n",
       "        vertical-align: top;\n",
       "    }\n",
       "\n",
       "    .dataframe thead th {\n",
       "        text-align: right;\n",
       "    }\n",
       "</style>\n",
       "<table border=\"1\" class=\"dataframe\">\n",
       "  <thead>\n",
       "    <tr style=\"text-align: right;\">\n",
       "      <th></th>\n",
       "      <th>Date</th>\n",
       "      <th>MKT</th>\n",
       "      <th>SMB</th>\n",
       "      <th>HML</th>\n",
       "      <th>RMW</th>\n",
       "      <th>CMA</th>\n",
       "      <th>UMD</th>\n",
       "    </tr>\n",
       "  </thead>\n",
       "  <tbody>\n",
       "    <tr>\n",
       "      <th>0</th>\n",
       "      <td>1980-01-31</td>\n",
       "      <td>0.0551</td>\n",
       "      <td>0.0183</td>\n",
       "      <td>0.0175</td>\n",
       "      <td>-0.0170</td>\n",
       "      <td>0.0164</td>\n",
       "      <td>0.0755</td>\n",
       "    </tr>\n",
       "    <tr>\n",
       "      <th>1</th>\n",
       "      <td>1980-02-29</td>\n",
       "      <td>-0.0122</td>\n",
       "      <td>-0.0157</td>\n",
       "      <td>0.0061</td>\n",
       "      <td>0.0004</td>\n",
       "      <td>0.0268</td>\n",
       "      <td>0.0788</td>\n",
       "    </tr>\n",
       "    <tr>\n",
       "      <th>2</th>\n",
       "      <td>1980-03-31</td>\n",
       "      <td>-0.1290</td>\n",
       "      <td>-0.0693</td>\n",
       "      <td>-0.0101</td>\n",
       "      <td>0.0146</td>\n",
       "      <td>-0.0119</td>\n",
       "      <td>-0.0955</td>\n",
       "    </tr>\n",
       "    <tr>\n",
       "      <th>3</th>\n",
       "      <td>1980-04-30</td>\n",
       "      <td>0.0397</td>\n",
       "      <td>0.0105</td>\n",
       "      <td>0.0106</td>\n",
       "      <td>-0.0210</td>\n",
       "      <td>0.0029</td>\n",
       "      <td>-0.0043</td>\n",
       "    </tr>\n",
       "    <tr>\n",
       "      <th>4</th>\n",
       "      <td>1980-05-31</td>\n",
       "      <td>0.0526</td>\n",
       "      <td>0.0211</td>\n",
       "      <td>0.0038</td>\n",
       "      <td>0.0034</td>\n",
       "      <td>-0.0031</td>\n",
       "      <td>-0.0112</td>\n",
       "    </tr>\n",
       "    <tr>\n",
       "      <th>...</th>\n",
       "      <td>...</td>\n",
       "      <td>...</td>\n",
       "      <td>...</td>\n",
       "      <td>...</td>\n",
       "      <td>...</td>\n",
       "      <td>...</td>\n",
       "      <td>...</td>\n",
       "    </tr>\n",
       "    <tr>\n",
       "      <th>531</th>\n",
       "      <td>2024-04-30</td>\n",
       "      <td>-0.0467</td>\n",
       "      <td>-0.0256</td>\n",
       "      <td>-0.0052</td>\n",
       "      <td>0.0148</td>\n",
       "      <td>-0.0030</td>\n",
       "      <td>-0.0042</td>\n",
       "    </tr>\n",
       "    <tr>\n",
       "      <th>532</th>\n",
       "      <td>2024-05-31</td>\n",
       "      <td>0.0434</td>\n",
       "      <td>0.0076</td>\n",
       "      <td>-0.0166</td>\n",
       "      <td>0.0298</td>\n",
       "      <td>-0.0307</td>\n",
       "      <td>-0.0002</td>\n",
       "    </tr>\n",
       "    <tr>\n",
       "      <th>533</th>\n",
       "      <td>2024-06-30</td>\n",
       "      <td>0.0277</td>\n",
       "      <td>-0.0437</td>\n",
       "      <td>-0.0331</td>\n",
       "      <td>0.0051</td>\n",
       "      <td>-0.0178</td>\n",
       "      <td>0.0090</td>\n",
       "    </tr>\n",
       "    <tr>\n",
       "      <th>534</th>\n",
       "      <td>2024-07-31</td>\n",
       "      <td>0.0124</td>\n",
       "      <td>0.0828</td>\n",
       "      <td>0.0573</td>\n",
       "      <td>0.0022</td>\n",
       "      <td>0.0043</td>\n",
       "      <td>-0.0242</td>\n",
       "    </tr>\n",
       "    <tr>\n",
       "      <th>535</th>\n",
       "      <td>2024-08-31</td>\n",
       "      <td>0.0161</td>\n",
       "      <td>-0.0365</td>\n",
       "      <td>-0.0112</td>\n",
       "      <td>0.0085</td>\n",
       "      <td>0.0086</td>\n",
       "      <td>0.0478</td>\n",
       "    </tr>\n",
       "  </tbody>\n",
       "</table>\n",
       "<p>536 rows × 7 columns</p>\n",
       "</div>"
      ],
      "text/plain": [
       "          Date     MKT     SMB     HML     RMW     CMA     UMD\n",
       "0   1980-01-31  0.0551  0.0183  0.0175 -0.0170  0.0164  0.0755\n",
       "1   1980-02-29 -0.0122 -0.0157  0.0061  0.0004  0.0268  0.0788\n",
       "2   1980-03-31 -0.1290 -0.0693 -0.0101  0.0146 -0.0119 -0.0955\n",
       "3   1980-04-30  0.0397  0.0105  0.0106 -0.0210  0.0029 -0.0043\n",
       "4   1980-05-31  0.0526  0.0211  0.0038  0.0034 -0.0031 -0.0112\n",
       "..         ...     ...     ...     ...     ...     ...     ...\n",
       "531 2024-04-30 -0.0467 -0.0256 -0.0052  0.0148 -0.0030 -0.0042\n",
       "532 2024-05-31  0.0434  0.0076 -0.0166  0.0298 -0.0307 -0.0002\n",
       "533 2024-06-30  0.0277 -0.0437 -0.0331  0.0051 -0.0178  0.0090\n",
       "534 2024-07-31  0.0124  0.0828  0.0573  0.0022  0.0043 -0.0242\n",
       "535 2024-08-31  0.0161 -0.0365 -0.0112  0.0085  0.0086  0.0478\n",
       "\n",
       "[536 rows x 7 columns]"
      ]
     },
     "execution_count": 18,
     "metadata": {},
     "output_type": "execute_result"
    }
   ],
   "source": [
    "import pandas as pd\n",
    "import numpy as np\n",
    "import matplotlib.pyplot as plt\n",
    "\n",
    "# Load the data\n",
    "file_path = '/Users/apple/Desktop/Uchicago/finm-portfolio-2024/data/factor_pricing_data.xlsx'\n",
    "factors_data = pd.read_excel(file_path, sheet_name='factors (excess returns)')  \n",
    "factors_data"
   ]
  },
  {
   "cell_type": "code",
   "execution_count": 19,
   "metadata": {},
   "outputs": [
    {
     "name": "stdout",
     "output_type": "stream",
     "text": [
      "Univariate Statistics:\n",
      "          Mean  Volatility  Sharpe Ratio\n",
      "MKT  0.009716    0.046270      0.209973\n",
      "SMB -0.001625    0.030174     -0.053855\n",
      "HML -0.001488    0.038310     -0.038840\n",
      "RMW  0.004241    0.021171      0.200301\n",
      "CMA -0.000701    0.024245     -0.028907\n",
      "UMD  0.001757    0.040649      0.043221\n"
     ]
    }
   ],
   "source": [
    "factors_data.set_index('Date', inplace=True)  \n",
    "\n",
    "# Subsample for the period 2015 - present\n",
    "factors_data = factors_data[factors_data.index >= '2015-01-01']\n",
    "\n",
    "# 1. Univariate Statistics\n",
    "# Calculate mean, volatility, and Sharpe ratio for each factor\n",
    "mean_returns = factors_data.mean()\n",
    "volatility = factors_data.std()\n",
    "sharpe_ratio = mean_returns / volatility\n",
    "\n",
    "# Display results\n",
    "univariate_stats = pd.DataFrame({\n",
    "    'Mean': mean_returns,\n",
    "    'Volatility': volatility,\n",
    "    'Sharpe Ratio': sharpe_ratio\n",
    "})\n",
    "print(\"Univariate Statistics:\\n\", univariate_stats)"
   ]
  },
  {
   "cell_type": "code",
   "execution_count": 20,
   "metadata": {},
   "outputs": [
    {
     "name": "stdout",
     "output_type": "stream",
     "text": [
      "\n",
      "Positive Risk Premium (True = Positive):\n",
      " MKT     True\n",
      "SMB    False\n",
      "HML    False\n",
      "RMW     True\n",
      "CMA    False\n",
      "UMD     True\n",
      "dtype: bool\n"
     ]
    }
   ],
   "source": [
    "# 2. Risk Premium Analysis\n",
    "# Check if each factor has a positive mean excess return (risk premium)\n",
    "positive_risk_premium = mean_returns > 0\n",
    "print(\"\\nPositive Risk Premium (True = Positive):\\n\", positive_risk_premium)\n"
   ]
  },
  {
   "cell_type": "code",
   "execution_count": 21,
   "metadata": {},
   "outputs": [
    {
     "name": "stdout",
     "output_type": "stream",
     "text": [
      "\n",
      "Correlation Matrix:\n",
      "           MKT       SMB       HML       RMW       CMA       UMD\n",
      "MKT  1.000000  0.303085  0.028444  0.027005 -0.212674 -0.404121\n",
      "SMB  0.303085  1.000000  0.344005 -0.369445  0.041209 -0.429565\n",
      "HML  0.028444  0.344005  1.000000  0.132069  0.652724 -0.309117\n",
      "RMW  0.027005 -0.369445  0.132069  1.000000  0.152793 -0.038378\n",
      "CMA -0.212674  0.041209  0.652724  0.152793  1.000000  0.011960\n",
      "UMD -0.404121 -0.429565 -0.309117 -0.038378  0.011960  1.000000\n"
     ]
    },
    {
     "data": {
      "image/png": "[encoded data removed]",
      "text/plain": [
       "<Figure size 800x600 with 2 Axes>"
      ]
     },
     "metadata": {},
     "output_type": "display_data"
    }
   ],
   "source": [
    "# 3. Correlation Matrix\n",
    "correlation_matrix = factors_data.corr()\n",
    "print(\"\\nCorrelation Matrix:\\n\", correlation_matrix)\n",
    "\n",
    "# Plot the correlation matrix\n",
    "plt.figure(figsize=(8, 6))\n",
    "plt.matshow(correlation_matrix, cmap='coolwarm', fignum=1)\n",
    "plt.colorbar()\n",
    "plt.title(\"Correlation Matrix of Factors (2015-Present)\")\n",
    "plt.show()"
   ]
  },
  {
   "cell_type": "markdown",
   "metadata": {},
   "source": [
    "MKT has a moderate positive correlation with SMB (0.30) and negative correlations with CMA (-0.21) and UMD (-0.40).\n",
    "HML shows relatively high correlations with CMA (0.65) and a moderate negative correlation with UMD (-0.31).\n",
    "Other correlations are relatively low or near zero.\n",
    "This suggests that while the factors are generally constructed to be distinct, some moderate correlations persist, especially between HML and CMA. This aligns with the notion that HML (value factor) may overlap or be somewhat redundant with other factors like CMA (investment factor), which is also based on company fundamentals.\n",
    "\n"
   ]
  },
  {
   "cell_type": "code",
   "execution_count": 22,
   "metadata": {},
   "outputs": [
    {
     "name": "stdout",
     "output_type": "stream",
     "text": [
      "\n",
      "Tangency Portfolio Weights:\n",
      "      Tangency Weights\n",
      "MKT      2.924781e-01\n",
      "SMB      1.725254e-02\n",
      "HML      0.000000e+00\n",
      "RMW      4.863654e-01\n",
      "CMA      8.754933e-18\n",
      "UMD      2.039039e-01\n"
     ]
    }
   ],
   "source": [
    "# 4. Tangency Portfolio Weights Calculation\n",
    "from scipy.optimize import minimize\n",
    "\n",
    "# Mean-Variance Optimization to calculate tangency portfolio weights\n",
    "def tangency_portfolio(weights, mean_returns, cov_matrix):\n",
    "    portfolio_return = np.dot(weights, mean_returns)\n",
    "    portfolio_volatility = np.sqrt(np.dot(weights.T, np.dot(cov_matrix, weights)))\n",
    "    return -portfolio_return / portfolio_volatility  # Negative for maximization in minimize function\n",
    "\n",
    "# Covariance matrix for factors\n",
    "cov_matrix = factors_data.cov()\n",
    "\n",
    "# Optimization setup\n",
    "num_assets = len(mean_returns)\n",
    "initial_weights = np.ones(num_assets) / num_assets\n",
    "constraints = ({'type': 'eq', 'fun': lambda x: np.sum(x) - 1})  \n",
    "bounds = tuple((0, 1) for asset in range(num_assets))  \n",
    "\n",
    "# Perform optimization\n",
    "opt_results = minimize(tangency_portfolio, initial_weights, args=(mean_returns, cov_matrix),\n",
    "                       method='SLSQP', bounds=bounds, constraints=constraints)\n",
    "\n",
    "# Extract optimized weights\n",
    "tangency_weights = opt_results.x\n",
    "tangency_weights_df = pd.DataFrame(tangency_weights, index=mean_returns.index, columns=['Tangency Weights'])\n",
    "print(\"\\nTangency Portfolio Weights:\\n\", tangency_weights_df)"
   ]
  },
  {
   "cell_type": "markdown",
   "metadata": {},
   "source": [
    "This indicates that the market (MKT), profitability (RMW), and momentum (UMD) factors are given the highest weights, suggesting that these factors are considered more important in constructing a portfolio that maximizes risk-adjusted returns. In contrast, SMB, HML, and CMA have little or no weight, implying they contribute less to achieving the optimal portfolio in this sample period.\n",
    "\n"
   ]
  },
  {
   "cell_type": "code",
   "execution_count": 23,
   "metadata": {},
   "outputs": [
    {
     "name": "stdout",
     "output_type": "stream",
     "text": [
      "\n",
      "Factors with High Tangency Weights:\n",
      "      Tangency Weights\n",
      "MKT          0.292478\n",
      "RMW          0.486365\n",
      "UMD          0.203904\n",
      "\n",
      "Factors with Low Tangency Weights:\n",
      "      Tangency Weights\n",
      "SMB      1.725254e-02\n",
      "HML      0.000000e+00\n",
      "CMA      8.754933e-18\n"
     ]
    }
   ],
   "source": [
    "# 5. Analysis based on Tangency Weights\n",
    "# Identify high/low weights and interpret importance based on tangency weights\n",
    "high_weight_factors = tangency_weights_df[tangency_weights_df['Tangency Weights'] > tangency_weights_df['Tangency Weights'].mean()]\n",
    "low_weight_factors = tangency_weights_df[tangency_weights_df['Tangency Weights'] <= tangency_weights_df['Tangency Weights'].mean()]\n",
    "\n",
    "print(\"\\nFactors with High Tangency Weights:\\n\", high_weight_factors)\n",
    "print(\"\\nFactors with Low Tangency Weights:\\n\", low_weight_factors)"
   ]
  },
  {
   "cell_type": "markdown",
   "metadata": {},
   "source": [
    "***"
   ]
  },
  {
   "cell_type": "markdown",
   "metadata": {},
   "source": [
    "# 3. Testing Modern LPMs\n",
    "\n",
    "Consider the following factor models:\n",
    "* CAPM: MKT\n",
    "* Fama-French 3F: MKT, SMB, HML\n",
    "* Fama-French 5F: MKT, SMB, HML, RMW, CMA\n",
    "* AQR: MKT, HML, RMW, UMD\n",
    "\n",
    "We are not saying this is “the” AQR model, but it is a good illustration of their most publicized factors: value, momentum, and more recently, profitability."
   ]
  },
  {
   "cell_type": "markdown",
   "metadata": {},
   "source": [
    "For instance, for the AQR model is..."
   ]
  },
  {
   "cell_type": "markdown",
   "metadata": {},
   "source": [
    "![](../refs/LFP-4-factors.png)"
   ]
  },
  {
   "cell_type": "markdown",
   "metadata": {},
   "source": [
    "We will test these models with the time-series regressions. Namely, for each asset i, estimate the following regression to test the AQR model:"
   ]
  },
  {
   "cell_type": "markdown",
   "metadata": {},
   "source": [
    "![](../refs/LFD-4-factors.png)"
   ]
  },
  {
   "cell_type": "markdown",
   "metadata": {},
   "source": [
    "Data\n",
    "* PORTFOLIOS: Monthly excess return data on 49 equity portfolios sorted by their industry. Denote these as $\\tilde{r}^i$ , for $n = 1, . . . , 49.$\n",
    "\n",
    "* You do NOT need the risk-free rate data. It is provided only for completeness. The other two tabs are already in terms of excess returns."
   ]
  },
  {
   "cell_type": "markdown",
   "metadata": {},
   "source": [
    "1. Test the AQR 4-Factor Model using the time-series test. (We are not doing the cross-sectional regression tests.)\n",
    "* For each regression, report the estimated α and r-squared.\n",
    "* Calculate the mean-absolute-error of the estimated alphas.\n",
    "* If the pricing model worked, should these alpha estimates be large or small? Why?\n",
    "* Based on your MAE stat, does this seem to support the pricing model or not?\n",
    "\n",
    "2. Test the CAPM, FF 3-Factor Model and the the FF 5-Factor Model.\n",
    "   * Report the MAE statistic for each of these models and compare it with the AQR Model MAE.\n",
    "   * Which model fits best?\n",
    "   \n",
    "3. Does any particular factor seem especially important or unimportant for pricing? Do you think Fama and French should use the Momentum Factor?"
   ]
  },
  {
   "cell_type": "markdown",
   "metadata": {},
   "source": [
    "4. This does not matter for pricing, but report the average (across $n$ estimations) of the time-series regression r-squared statistics.\n",
    "   * Do this for each of the three models you tested.\n",
    "   * Do these models lead to high time-series r-squared stats? That is, would these factors be good in a Linear Factor Decomposition of the assets?\n",
    "\n",
    "5. We tested three models using the time-series tests (focusing on the time-series alphas.) Re-test these models, but this time use the cross-sectional test.\n",
    "* Report the time-series premia of the factors (just their sample averages,) and compare to the cross-sectionally estimated premia of the factors. Do they differ substantially?4\n",
    "* Report the MAE of the cross-sectional regression residuals for each of the four models. How do they compare to the MAE of the time-series alphas?"
   ]
  },
  {
   "cell_type": "markdown",
   "metadata": {},
   "source": [
    "***"
   ]
  },
  {
   "cell_type": "code",
   "execution_count": 24,
   "metadata": {},
   "outputs": [
    {
     "name": "stdout",
     "output_type": "stream",
     "text": [
      "   Portfolio     Alpha  R-squared       MKT       HML       RMW       UMD\n",
      "0      Agric  0.000643   0.339175  0.836774  0.184332 -0.011247  0.080408\n",
      "1      Food   0.000579   0.464221  0.679100  0.183550  0.489345  0.042428\n",
      "2      Soda   0.001436   0.308354  0.783908  0.204231  0.490429 -0.084807\n",
      "3      Beer   0.001422   0.420762  0.721367  0.038420  0.584607  0.087322\n",
      "4      Smoke  0.002942   0.273489  0.737693  0.258770  0.655168 -0.028303\n",
      "5      Toys  -0.003111   0.508340  1.116055 -0.014806  0.211998 -0.156598\n",
      "6      Fun    0.002542   0.616501  1.250891 -0.019845 -0.094655 -0.223158\n",
      "7      Books -0.002452   0.686774  1.112262  0.257013  0.193680 -0.079413\n",
      "8      Hshld -0.000674   0.558410  0.751834 -0.000869  0.480492  0.016071\n",
      "9      Clths -0.001513   0.618299  1.115133  0.052037  0.550465 -0.198888\n",
      "10     Hlth  -0.003273   0.446684  1.046020  0.140409  0.435614  0.084446\n",
      "11     MedEq  0.001644   0.599517  0.882600 -0.132447  0.079826  0.053427\n",
      "12     Drugs  0.002632   0.506381  0.733216 -0.158965  0.206787  0.063855\n",
      "13     Chems -0.002309   0.747657  1.131750  0.304065  0.287398 -0.109346\n",
      "14     Rubbr -0.000038   0.645800  1.070769  0.109309  0.135137 -0.071472\n",
      "15     Txtls -0.002198   0.553884  1.241883  0.573331  0.262801 -0.339769\n",
      "16     BldMt -0.002320   0.754924  1.276972  0.339617  0.355060 -0.086187\n",
      "17     Cnstr -0.002641   0.636427  1.351519  0.302885  0.190918  0.017689\n",
      "18     Steel -0.002303   0.631378  1.394332  0.342191 -0.444845 -0.169501\n",
      "19     FabPr -0.002496   0.416266  1.103029  0.196745 -0.088201 -0.182507\n",
      "20     Mach  -0.000211   0.754646  1.229317  0.094865 -0.136385 -0.133238\n",
      "21     ElcEq -0.000215   0.737718  1.260663  0.022110  0.070353 -0.057225\n",
      "22     Autos  0.000714   0.547742  1.296906  0.192353  0.021562 -0.385426\n",
      "23     Aero  -0.000794   0.601293  1.139438  0.297964  0.370035 -0.130127\n",
      "24     Ships -0.003331   0.504490  1.209049  0.420867  0.424199 -0.050725\n",
      "25     Guns   0.000274   0.329936  0.816958  0.272689  0.629595  0.038024\n",
      "26     Gold   0.000466   0.050021  0.563626  0.062201 -0.038381  0.061403\n",
      "27     Mines -0.001711   0.464500  1.193538  0.344515  0.047805 -0.149593\n",
      "28     Coal  -0.002680   0.211781  1.171964  0.529899 -0.258288  0.133820\n",
      "29     Oil   -0.002120   0.455311  0.984070  0.613343  0.173461  0.055253\n",
      "30     Util   0.000359   0.358342  0.549655  0.325111  0.215098  0.098005\n",
      "31     Telcm  0.000357   0.586153  0.827891  0.105088 -0.050618 -0.081831\n",
      "32     PerSv -0.004289   0.585231  1.085321  0.172585  0.284145  0.087717\n",
      "33     BusSv -0.000147   0.847874  1.093010 -0.104474 -0.003629  0.001990\n",
      "34     Hardw  0.003599   0.664480  1.092551 -0.475733 -0.463652 -0.209085\n",
      "35     Softw  0.005546   0.738513  1.216373 -0.855876 -0.139168 -0.083369\n",
      "36     Chips  0.005405   0.754512  1.225927 -0.545499 -0.470169 -0.129183\n",
      "37     LabEq  0.002355   0.736052  1.124697 -0.344549 -0.355223  0.002208\n",
      "38     Paper -0.003149   0.674688  1.011295  0.246468  0.412877 -0.086358\n",
      "39     Boxes  0.000103   0.582882  0.978701  0.137330  0.244007 -0.115948\n",
      "40     Trans -0.001652   0.709527  1.099583  0.199679  0.328499 -0.092390\n",
      "41     Whlsl -0.001213   0.753533  1.028239  0.108770  0.178079  0.011193\n",
      "42     Rtail  0.001665   0.686135  0.984097 -0.141063  0.339987 -0.052379\n",
      "43     Meals -0.000067   0.636929  0.945039  0.080478  0.481564 -0.065229\n",
      "44     Banks -0.001814   0.774982  1.159223  0.723557  0.080962 -0.135219\n",
      "45     Insur -0.000622   0.675543  0.967590  0.470293  0.241021 -0.015438\n",
      "46     RlEst -0.004791   0.606331  1.211148  0.519258  0.039233 -0.198818\n",
      "47     Fin    0.001548   0.814851  1.236309  0.332239 -0.401418 -0.041171\n",
      "48     Other -0.003522   0.594589  1.056053  0.083963  0.127354 -0.018345\n"
     ]
    }
   ],
   "source": [
    "import pandas as pd\n",
    "import statsmodels.api as sm\n",
    "\n",
    "# Load portfolio and factor data\n",
    "portfolios = pd.read_excel(file_path, sheet_name='portfolios (excess returns)')\n",
    "factors = pd.read_excel(file_path, sheet_name='factors (excess returns)')\n",
    "\n",
    "# Define factors for AQR model\n",
    "factor_columns = ['MKT', 'HML', 'RMW', 'UMD']\n",
    "\n",
    "results = []\n",
    "\n",
    "for portfolio in portfolios.columns[1:]:  # Assuming the first column is the Date\n",
    "    # Prepare dependent (y) and independent variables (X)\n",
    "    y = portfolios[portfolio]  # Returns for the current portfolio\n",
    "    X = factors[factor_columns]  # AQR model factors\n",
    "    X = sm.add_constant(X)  # Add intercept\n",
    "\n",
    "    # Run regression\n",
    "    model = sm.OLS(y, X).fit()\n",
    "    alpha = model.params['const']\n",
    "    r_squared = model.rsquared\n",
    "\n",
    "    # Store results\n",
    "    results.append({\n",
    "        'Portfolio': portfolio,\n",
    "        'Alpha': alpha,\n",
    "        'R-squared': r_squared,\n",
    "        **{factor: model.params[factor] for factor in factor_columns}\n",
    "    })\n",
    "\n",
    "# Create a DataFrame of the results\n",
    "results_df = pd.DataFrame(results)\n",
    "print(results_df[['Portfolio', 'Alpha', 'R-squared'] + factor_columns])\n"
   ]
  },
  {
   "cell_type": "markdown",
   "metadata": {},
   "source": [
    "Ideally, under CAPM, the alpha values should be close to zero for each portfolio, meaning that the model explains the returns through the market exposure alone. However, in my results, some portfolios have notable alpha values, indicating that there is excess return not captured by the market factor. This suggests that CAPM with only the market factor does not fully explain all the returns, which might imply the presence of other factors influencing the returns."
   ]
  },
  {
   "cell_type": "code",
   "execution_count": 25,
   "metadata": {},
   "outputs": [
    {
     "name": "stdout",
     "output_type": "stream",
     "text": [
      "Mean-Absolute Error (MAE) of Alphas: 0.0019160515816456596\n"
     ]
    }
   ],
   "source": [
    "mae_alpha = results_df['Alpha'].abs().mean()\n",
    "print(f\"Mean-Absolute Error (MAE) of Alphas: {mae_alpha}\")"
   ]
  },
  {
   "cell_type": "code",
   "execution_count": 26,
   "metadata": {},
   "outputs": [
    {
     "name": "stdout",
     "output_type": "stream",
     "text": [
      "MAE for CAPM Alphas: 0.0017001307693664564\n"
     ]
    }
   ],
   "source": [
    "results_capm = []\n",
    "\n",
    "for portfolio in portfolios.columns[1:]:\n",
    "    y = portfolios[portfolio]\n",
    "    X = factors[['MKT']]\n",
    "    X = sm.add_constant(X)\n",
    "\n",
    "    model = sm.OLS(y, X).fit()\n",
    "    alpha = model.params['const']\n",
    "    r_squared = model.rsquared\n",
    "\n",
    "    results_capm.append({\n",
    "        'Portfolio': portfolio,\n",
    "        'Alpha': alpha,\n",
    "        'R-squared': r_squared,\n",
    "        'Beta_MKT': model.params['MKT']\n",
    "    })\n",
    "\n",
    "results_capm_df = pd.DataFrame(results_capm)\n",
    "mae_alpha_capm = results_capm_df['Alpha'].abs().mean()\n",
    "print(f\"MAE for CAPM Alphas: {mae_alpha_capm}\")\n"
   ]
  },
  {
   "cell_type": "markdown",
   "metadata": {},
   "source": [
    "The MAE for both the AQR and CAPM models is relatively low, suggesting that the models have some explanatory power over the returns. However, the presence of non-zero MAE implies that there is still a portion of returns not explained by either model, especially as we see notable alphas in some portfolios. The slightly lower MAE in CAPM compared to the AQR model might suggest that in this particular dataset, CAPM explains the returns as well as the AQR model. However, neither model is perfect, as the non-zero MAE points to unexplained return variations across portfolios."
   ]
  },
  {
   "cell_type": "markdown",
   "metadata": {},
   "source": []
  }
 ],
 "metadata": {
  "kernelspec": {
   "display_name": "Python 3 (ipykernel)",
   "language": "python",
   "name": "python3"
  },
  "language_info": {
   "codemirror_mode": {
    "name": "ipython",
    "version": 3
   },
   "file_extension": ".py",
   "mimetype": "text/x-python",
   "name": "python",
   "nbconvert_exporter": "python",
   "pygments_lexer": "ipython3",
   "version": "3.11.5"
  }
 },
 "nbformat": 4,
 "nbformat_minor": 4
}
