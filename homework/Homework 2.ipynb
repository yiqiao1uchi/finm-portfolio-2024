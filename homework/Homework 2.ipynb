{
 "cells": [
  {
   "cell_type": "markdown",
   "id": "e3eee68c",
   "metadata": {},
   "source": [
    "# Homework 2\n",
    "\n",
    "## FINM 36700 - 2024\n",
    "\n",
    "### UChicago Financial Mathematics\n",
    "\n",
    "* Mark Hendricks\n",
    "* hendricks@uchicago.edu\n",
    "\n",
    "## HBS Case\n",
    "\n",
    "### *ProShares Hedge Replication ETF*"
   ]
  },
  {
   "cell_type": "markdown",
   "id": "3ed4b263",
   "metadata": {},
   "source": [
    "***"
   ]
  },
  {
   "cell_type": "markdown",
   "id": "32a1eb4b",
   "metadata": {},
   "source": [
    "# 1. The ProShares ETF Product\n",
    "\n",
    "**Section 1 is not graded**, and you do not need to submit your answers. But you are encouraged to think about them, and we will discuss them."
   ]
  },
  {
   "cell_type": "markdown",
   "id": "976c4cd6",
   "metadata": {},
   "source": [
    "## 1. Alternative ETFs\n",
    "\n",
    "Describe the two types of investments referenced by this term."
   ]
  },
  {
   "cell_type": "markdown",
   "id": "78778f8b",
   "metadata": {},
   "source": [
    "1. alternative asset classes (giving exposure to nonmainstream assets)\n",
    "2. alternative strategies (pursuing investment processes that were not constrained and could use leverage, shorting, and derivatives). "
   ]
  },
  {
   "cell_type": "markdown",
   "id": "a350c607",
   "metadata": {},
   "source": [
    "## 2. Hedge Funds.\n",
    "\n",
    "a. Using just the information in the case, what are two measures by which hedge funds are an attractive investment?\n",
    "\n",
    "b. What are the main benefits of investing in hedge funds via an ETF instead of directly?"
   ]
  },
  {
   "cell_type": "markdown",
   "id": "7653cb97",
   "metadata": {},
   "source": [
    "a. \n",
    "Performance: Hedge funds delivered about 10% higher returns than stocks and more than twice as much as bonds from 1994 through 2013. Even though the stock market outperformed hedge fund strategies in the previous five years, hedge funds provided a “smoother ride” along the way.\n",
    "\n",
    "Risk-Adjusted Returns: Hedge funds, as represented by the HFRI index, exhibited attractive risk-return characteristics with less than half the volatility of the S&P 500 over the same period, while still earning annualized returns less than 1% below the index. This indicates better risk management and potential to push the efficient frontier of a portfolio.\n",
    "\n",
    "\n",
    "b. \n",
    "Lower Fees: Hedge fund replication ETFs charge lower fees compared to traditional hedge funds, which typically include a 2% annual fee and a 20% performance fee. ETFs are designed to follow a quantitative, rules-based strategy, making them more cost-effective for investors.\n",
    "\n",
    "Accessibility to Retail Investors: Hedge fund ETFs are accessible to retail investors, whereas traditional hedge funds often require substantial minimum investments and are generally only accessible to large institutions and wealthy accredited investors. This democratizes access to hedge fund strategies."
   ]
  },
  {
   "cell_type": "markdown",
   "id": "f1c6d57d",
   "metadata": {},
   "source": [
    "## 3. The Benchmarks\n",
    "\n",
    "a. Explain as simply as possible how HFRI, MLFM, MLFM-ES, and HDG differ in their construction and purpose.\n",
    "\n",
    "b. How well does the Merrill Lynch Factor Model (MLFM) track the HFRI?\n",
    "\n",
    "c. In which factor does the MLFM have the largest loading? (See a slide in Exhibit 1.)\n",
    "\n",
    "d. What are the main concerns you have for how the MLFM attempts to replicate the HFRI?"
   ]
  },
  {
   "cell_type": "markdown",
   "id": "15b3e12b",
   "metadata": {},
   "source": [
    "a.\n",
    "HFRI shows actual hedge fund performance.\n",
    "MLFM is a model that simulates hedge fund returns using market factors.\n",
    "MLFM-ES makes the MLFM tradable for ETFs.\n",
    "HDG is an ETF that uses the MLFM-ES to give investors hedge fund-like returns.\n",
    "\n",
    "b.\n",
    "The MLFM has achieved a high correlation with the HFRI, particularly around 90%, meaning it captures much of the hedge fund-like performance over time, , but it isn't perfect, particularly during periods of market volatility or extreme conditions.\n",
    "\n",
    "c. \n",
    "the 3-Month T-Bills factor has the largest loading in the Merrill Lynch Factor Model (MLFM), with a weight of 64.7% on multiple dates shown, such as April 3, 2013, and July 3, 2013. This indicates that the MLFM gives the highest exposure to U.S. Treasury Bills when replicating hedge fund strategies.\n",
    "\n",
    "d. \n",
    "Hedge fund strategies are often opportunistic and can change rapidly based on market conditions. If the MLFM doesn't adjust its factor exposures frequently enough, it risks lagging behind the actual hedge fund strategies that are more nimble and responsive to market changes.\n",
    "\n",
    "\n",
    "\n"
   ]
  },
  {
   "cell_type": "markdown",
   "id": "8247c669",
   "metadata": {},
   "source": [
    "## 4. The HDG Product\n",
    "\n",
    "a. What does ProShares ETF, HDG, attempt to track? Is the tracking error small?\n",
    "\n",
    "b. HDG is, by construction, delivering beta for investors. Isn't the point of hedge funds to generate alpha? Then why would HDG be valuable?\n",
    "\n",
    "c. The fees of a typical hedge-fund are 2% on total assets plus 20% of excess returns if positive. HDG's expense ratio is roughly 1% on total assets. What would their respective net Sharpe Ratios be, assuming both have a gross excess returns of 10% and volatility of 20%?"
   ]
  },
  {
   "cell_type": "markdown",
   "id": "5dec7e41",
   "metadata": {},
   "source": [
    "a.\n",
    "The ProShares ETF (HDG) attempts to track the performance of the Merrill Lynch Factor Model – Exchange Series (MLFM-ES). This model is designed to replicate the performance of hedge fund strategies by using a set of market factors such as the S&P 500, Russell 2000, MSCI EAFE, MSCI Emerging Markets, 3-Month T-Bills, and EUO (Euro currency). HDG aims to give investors exposure to hedge fund-like returns without directly investing in hedge funds, by replicating the performance of these underlying factors.\n",
    "The tracking error for HDG relative to its benchmark (MLFM-ES) is generally considered small. According to the information, HDG has maintained a high correlation (up to 99.7%) with the Merrill Lynch Factor Model since its inception, which suggests that its performance is closely aligned with the index it aims to track. \n",
    "\n",
    "b.\n",
    "HDG provides beta exposure similar to hedge fund strategies but at a lower cost, with greater transparency, and broader accessibility for retail investors. While it doesn't deliver the alpha that hedge funds aim for, it offers diversified returns and risk management benefits in a more liquid and regulated format, making it valuable for investors who want hedge fund-like performance without high fees or restrictions.\n",
    "\n",
    "c. \n",
    "\n",
    "#### Step 1: Calculate net excess return after fees\n",
    "\n",
    "1. **Hedge Fund**:\n",
    "   - **Management Fee**: 2% of total assets.\n",
    "   - **Performance Fee**: 20% of the positive excess returns.\n",
    "\n",
    "   Net excess return for the hedge fund:\n",
    "   \\[\n",
    "   \\text{Net excess return} = 10\\% - 2\\% - (20\\% \\times 10\\%) = 10\\% - 2\\% - 2\\% = 6\\%\n",
    "   \\]\n",
    "\n",
    "2. **HDG**:\n",
    "   - **Expense Ratio**: 1% of total assets.\n",
    "\n",
    "   Net excess return for HDG:\n",
    "   \\[\n",
    "   \\text{Net excess return} = 10\\% - 1\\% = 9\\%\n",
    "   \\]\n",
    "\n",
    "#### Step 2: Calculate the Sharpe Ratios\n",
    "\n",
    "1. **Hedge Fund**:\n",
    "   \\[\n",
    "   \\text{Sharpe Ratio} = \\frac{6\\%}{20\\%} = 0.30\n",
    "   \\]\n",
    "\n",
    "2. **HDG**:\n",
    "   \\[\n",
    "   \\text{Sharpe Ratio} = \\frac{9\\%}{20\\%} = 0.45\n",
    "   \\]\n"
   ]
  },
  {
   "cell_type": "code",
   "execution_count": null,
   "id": "f347cffc",
   "metadata": {},
   "outputs": [],
   "source": []
  },
  {
   "cell_type": "markdown",
   "id": "ecd7e292",
   "metadata": {},
   "source": [
    "***"
   ]
  },
  {
   "cell_type": "markdown",
   "id": "fbbf79a1",
   "metadata": {},
   "source": [
    "# 2.  Analyzing the Data\n",
    "\n",
    "Use the data found on Canvas, in <b>'proshares analysis data.xlsx'</b>. \n",
    "\n",
    "It has monthly data on financial indexes and ETFs from `Aug 2011` through `Sep 2024`."
   ]
  },
  {
   "cell_type": "markdown",
   "id": "22b7389c",
   "metadata": {},
   "source": [
    "## 1. \n",
    "\n",
    "For the series in the \"hedge fund series\" tab, report the following summary statistics:\n",
    "* mean\n",
    "* volatility\n",
    "* Sharpe ratio\n",
    "\n",
    "Annualize these statistics."
   ]
  },
  {
   "cell_type": "code",
   "execution_count": 48,
   "id": "daa2ef7f",
   "metadata": {},
   "outputs": [
    {
     "data": {
      "text/html": [
       "<div>\n",
       "<style scoped>\n",
       "    .dataframe tbody tr th:only-of-type {\n",
       "        vertical-align: middle;\n",
       "    }\n",
       "\n",
       "    .dataframe tbody tr th {\n",
       "        vertical-align: top;\n",
       "    }\n",
       "\n",
       "    .dataframe thead th {\n",
       "        text-align: right;\n",
       "    }\n",
       "</style>\n",
       "<table border=\"1\" class=\"dataframe\">\n",
       "  <thead>\n",
       "    <tr style=\"text-align: right;\">\n",
       "      <th></th>\n",
       "      <th>Unnamed: 0</th>\n",
       "      <th>HFRIFWI Index</th>\n",
       "      <th>MLEIFCTR Index</th>\n",
       "      <th>MLEIFCTX Index</th>\n",
       "      <th>HDG US Equity</th>\n",
       "      <th>QAI US Equity</th>\n",
       "    </tr>\n",
       "  </thead>\n",
       "  <tbody>\n",
       "    <tr>\n",
       "      <th>0</th>\n",
       "      <td>2011-08-31</td>\n",
       "      <td>-0.032149</td>\n",
       "      <td>-0.025588</td>\n",
       "      <td>-0.025689</td>\n",
       "      <td>-0.027036</td>\n",
       "      <td>-0.006489</td>\n",
       "    </tr>\n",
       "    <tr>\n",
       "      <th>1</th>\n",
       "      <td>2011-09-30</td>\n",
       "      <td>-0.038903</td>\n",
       "      <td>-0.032414</td>\n",
       "      <td>-0.032593</td>\n",
       "      <td>-0.032466</td>\n",
       "      <td>-0.022141</td>\n",
       "    </tr>\n",
       "    <tr>\n",
       "      <th>2</th>\n",
       "      <td>2011-10-31</td>\n",
       "      <td>0.026858</td>\n",
       "      <td>0.043593</td>\n",
       "      <td>0.043320</td>\n",
       "      <td>0.050531</td>\n",
       "      <td>0.025239</td>\n",
       "    </tr>\n",
       "    <tr>\n",
       "      <th>3</th>\n",
       "      <td>2011-11-30</td>\n",
       "      <td>-0.013453</td>\n",
       "      <td>-0.012142</td>\n",
       "      <td>-0.012431</td>\n",
       "      <td>-0.028608</td>\n",
       "      <td>-0.007964</td>\n",
       "    </tr>\n",
       "    <tr>\n",
       "      <th>4</th>\n",
       "      <td>2011-12-31</td>\n",
       "      <td>-0.004479</td>\n",
       "      <td>0.001938</td>\n",
       "      <td>0.001796</td>\n",
       "      <td>0.012875</td>\n",
       "      <td>0.001822</td>\n",
       "    </tr>\n",
       "  </tbody>\n",
       "</table>\n",
       "</div>"
      ],
      "text/plain": [
       "  Unnamed: 0  HFRIFWI Index  MLEIFCTR Index  MLEIFCTX Index  HDG US Equity  \\\n",
       "0 2011-08-31      -0.032149       -0.025588       -0.025689      -0.027036   \n",
       "1 2011-09-30      -0.038903       -0.032414       -0.032593      -0.032466   \n",
       "2 2011-10-31       0.026858        0.043593        0.043320       0.050531   \n",
       "3 2011-11-30      -0.013453       -0.012142       -0.012431      -0.028608   \n",
       "4 2011-12-31      -0.004479        0.001938        0.001796       0.012875   \n",
       "\n",
       "   QAI US Equity  \n",
       "0      -0.006489  \n",
       "1      -0.022141  \n",
       "2       0.025239  \n",
       "3      -0.007964  \n",
       "4       0.001822  "
      ]
     },
     "execution_count": 48,
     "metadata": {},
     "output_type": "execute_result"
    }
   ],
   "source": [
    "import pandas as pd\n",
    "import numpy as np\n",
    "file_path = '/Users/apple/Desktop/Uchicago/finm-portfolio-2024/data/proshares_analysis_data.xlsx'\n",
    "df = pd.read_excel(file_path, sheet_name='hedge_fund_series')\n",
    "df.head()"
   ]
  },
  {
   "cell_type": "code",
   "execution_count": 49,
   "id": "4f8ae778",
   "metadata": {},
   "outputs": [
    {
     "name": "stdout",
     "output_type": "stream",
     "text": [
      "                Annualized Mean Return  Annualized Volatility  \\\n",
      "HFRIFWI Index                 0.049378               0.059476   \n",
      "MLEIFCTR Index                0.036896               0.056136   \n",
      "MLEIFCTX Index                0.035159               0.055980   \n",
      "HDG US Equity                 0.025096               0.058408   \n",
      "QAI US Equity                 0.025957               0.050009   \n",
      "\n",
      "                Annualized Sharpe Ratio  \n",
      "HFRIFWI Index                  0.812004  \n",
      "MLEIFCTR Index                 0.646398  \n",
      "MLEIFCTX Index                 0.618172  \n",
      "HDG US Equity                  0.424805  \n",
      "QAI US Equity                  0.512971  \n"
     ]
    }
   ],
   "source": [
    "columns_to_analyze = df.columns[1:]  \n",
    "\n",
    "results = {}\n",
    "\n",
    "for col in columns_to_analyze:\n",
    "    # Select the returns for the current column\n",
    "    returns = df[col]\n",
    "    \n",
    "    # Calculate the mean (average) return\n",
    "    mean_return_monthly = returns.mean()\n",
    "    \n",
    "    # Calculate volatility (standard deviation) of returns\n",
    "    volatility_monthly = returns.std()\n",
    "    \n",
    "    # Assuming a risk-free rate of 0 (for simplicity), calculate the Sharpe ratio\n",
    "    sharpe_ratio_monthly = mean_return_monthly / volatility_monthly\n",
    "    \n",
    "    # Annualize the statistics\n",
    "    mean_return_annual = (1 + mean_return_monthly)**12 - 1  # Compounded returns\n",
    "    volatility_annual = volatility_monthly * np.sqrt(12)  # Volatility scales with sqrt of time\n",
    "    sharpe_ratio_annual = sharpe_ratio_monthly * np.sqrt(12)  # Sharpe ratio also scales similarly\n",
    "    \n",
    "    # Store the results in the dictionary\n",
    "    results[col] = {\n",
    "        'Annualized Mean Return': mean_return_annual,\n",
    "        'Annualized Volatility': volatility_annual,\n",
    "        'Annualized Sharpe Ratio': sharpe_ratio_annual\n",
    "    }\n",
    "\n",
    "# Convert the results dictionary to a DataFrame and display\n",
    "results_df = pd.DataFrame(results).T\n",
    "print(results_df)"
   ]
  },
  {
   "cell_type": "markdown",
   "id": "ec8d7c08",
   "metadata": {},
   "source": [
    "## 2.\n",
    "\n",
    "For the series in the \"hedge fund series\" tab, calculate the following statistics related to tail-risk.\n",
    "* Skewness\n",
    "* Excess Kurtosis (in excess of 3)\n",
    "* VaR (.05) - the fifth quantile of historic returns\n",
    "* CVaR (.05) - the mean of the returns at or below the fifth quantile\n",
    "* Maximum drawdown - include the dates of the max/min/recovery within the max drawdown period.\n",
    "\n",
    "There is no need to annualize any of these statistics."
   ]
  },
  {
   "cell_type": "code",
   "execution_count": 50,
   "id": "4d6906c3",
   "metadata": {},
   "outputs": [
    {
     "name": "stdout",
     "output_type": "stream",
     "text": [
      "                Skewness Excess Kurtosis VaR (0.05) CVaR (0.05) Max Drawdown  \\\n",
      "HFRIFWI Index  -0.954148        2.544571  -0.024293   -0.037478    -0.115473   \n",
      "MLEIFCTR Index -0.262868       -1.457333  -0.028189   -0.035857    -0.124302   \n",
      "MLEIFCTX Index -0.248887       -1.491929  -0.028095   -0.035816    -0.124388   \n",
      "HDG US Equity  -0.251781       -1.333667  -0.030932   -0.037575     -0.14072   \n",
      "QAI US Equity  -0.430637       -1.482174  -0.017895   -0.032695    -0.137716   \n",
      "\n",
      "               Start of Drawdown End of Drawdown Recovery Date  \n",
      "HFRIFWI Index         2019-12-31      2020-03-31    2020-08-31  \n",
      "MLEIFCTR Index        2021-06-30      2022-09-30    2024-02-29  \n",
      "MLEIFCTX Index        2021-06-30      2022-09-30    2024-02-29  \n",
      "HDG US Equity         2021-06-30      2022-09-30    2024-07-31  \n",
      "QAI US Equity         2021-06-30      2022-09-30    2024-02-29  \n"
     ]
    }
   ],
   "source": [
    "from scipy.stats import skew, kurtosis\n",
    "\n",
    "def max_drawdown(returns):\n",
    "    cumulative = (1 + returns).cumprod()\n",
    "    peak = cumulative.cummax()\n",
    "    drawdown = (cumulative - peak) / peak\n",
    "    max_drawdown = drawdown.min()\n",
    "    end_date = drawdown.idxmin()\n",
    "    start_date = (cumulative[:end_date].idxmax())\n",
    "    recovery_date = (cumulative[end_date:].gt(cumulative[start_date]).idxmax())\n",
    "    return max_drawdown, start_date, end_date, recovery_date\n",
    "\n",
    "# Dictionary to store results\n",
    "tail_risk_results = {}\n",
    "\n",
    "for col in columns_to_analyze:\n",
    "    # Select the returns for the current column\n",
    "    returns = df[col]\n",
    "    \n",
    "    # Skewness\n",
    "    skewness = skew(returns)\n",
    "\n",
    "    # Excess Kurtosis (subtracting 3 to account for normal kurtosis)\n",
    "    excess_kurtosis = kurtosis(returns) - 3\n",
    "\n",
    "    # VaR (5th percentile)\n",
    "    var_05 = np.percentile(returns, 5)\n",
    "\n",
    "    # CVaR (mean of returns at or below the 5th percentile)\n",
    "    cvar_05 = returns[returns <= var_05].mean()\n",
    "\n",
    "    # Maximum drawdown (returns both the value and dates)\n",
    "    drawdown, start_date, end_date, recovery_date = max_drawdown(returns)\n",
    "\n",
    "    # Store the results in the dictionary\n",
    "    tail_risk_results[col] = {\n",
    "        'Skewness': skewness,\n",
    "        'Excess Kurtosis': excess_kurtosis,\n",
    "        'VaR (0.05)': var_05,\n",
    "        'CVaR (0.05)': cvar_05,\n",
    "        'Max Drawdown': drawdown,\n",
    "        'Start of Drawdown': df['Unnamed: 0'][start_date],  # Date of start of drawdown\n",
    "        'End of Drawdown': df['Unnamed: 0'][end_date],      # Date of max drawdown\n",
    "        'Recovery Date': df['Unnamed: 0'][recovery_date]     # Date of recovery\n",
    "    }\n",
    "\n",
    "# Convert the results dictionary to a DataFrame and display\n",
    "tail_risk_df = pd.DataFrame(tail_risk_results).T\n",
    "print(tail_risk_df)"
   ]
  },
  {
   "cell_type": "markdown",
   "id": "9deb5072",
   "metadata": {},
   "source": [
    "## 3. \n",
    "\n",
    "For the series in the \"hedge fund series\" tab, run a regression of each against SPY (found in the \"merrill factors\" tab.) Include an intercept. Report the following regression-based statistics:\n",
    "* Market Beta\n",
    "* Treynor Ratio\n",
    "* Information ratio\n",
    "\n",
    "Annualize these three statistics as appropriate."
   ]
  },
  {
   "cell_type": "code",
   "execution_count": 51,
   "id": "a92a0ff5",
   "metadata": {},
   "outputs": [
    {
     "name": "stdout",
     "output_type": "stream",
     "text": [
      "                Market Beta  Treynor Ratio (Annualized)  \\\n",
      "HFRIFWI Index      0.346131                    0.040278   \n",
      "MLEIFCTR Index     0.343383                    0.030505   \n",
      "MLEIFCTX Index     0.342171                    0.029195   \n",
      "HDG US Equity      0.352053                    0.020345   \n",
      "QAI US Equity      0.298376                    0.024819   \n",
      "\n",
      "                Information Ratio (Annualized)  \n",
      "HFRIFWI Index                     1.319694e-16  \n",
      "MLEIFCTR Index                    3.044476e-17  \n",
      "MLEIFCTX Index                   -5.175643e-16  \n",
      "HDG US Equity                    -5.191806e-16  \n",
      "QAI US Equity                    -9.443300e-17  \n"
     ]
    }
   ],
   "source": [
    "import statsmodels.api as sm\n",
    "\n",
    "# Load the data\n",
    "file_path = '/Users/apple/Desktop/Uchicago/finm-portfolio-2024/data/proshares_analysis_data.xlsx'\n",
    "hedge_fund_data = pd.read_excel(file_path, sheet_name='hedge_fund_series')\n",
    "merrill_factors_data = pd.read_excel(file_path, sheet_name='merrill_factors')\n",
    "spy_returns = merrill_factors_data['SPY US Equity']\n",
    "columns_to_analyze = hedge_fund_data.columns[1:]\n",
    "\n",
    "regression_results = {}\n",
    "\n",
    "for col in columns_to_analyze:\n",
    "    # Get the returns for the current hedge fund series\n",
    "    fund_returns = hedge_fund_data[col]\n",
    "    \n",
    "    # Add a constant to the SPY returns for the intercept\n",
    "    spy_with_const = sm.add_constant(spy_returns)\n",
    "    \n",
    "    # Run the regression of the hedge fund returns against SPY\n",
    "    model = sm.OLS(fund_returns, spy_with_const).fit()\n",
    "    \n",
    "    # Get beta (slope), alpha (intercept), and residuals\n",
    "    beta = model.params[1]  # Beta (SPY coefficient)\n",
    "    alpha = model.params[0]  # Intercept (alpha)\n",
    "    residuals = model.resid  # Residuals\n",
    "    \n",
    "    # Calculate Treynor Ratio: (mean return - risk-free rate) / Beta\n",
    "    # Assuming risk-free rate = 0 for simplicity\n",
    "    mean_return = fund_returns.mean()\n",
    "    treynor_ratio = mean_return / beta\n",
    "\n",
    "    # Calculate Information Ratio: mean of residuals / std of residuals\n",
    "    information_ratio = residuals.mean() / residuals.std()\n",
    "    \n",
    "    # Annualize the Treynor Ratio and Information Ratio\n",
    "    treynor_ratio_annual = treynor_ratio * np.sqrt(12)\n",
    "    information_ratio_annual = information_ratio * np.sqrt(12)\n",
    " \n",
    "    regression_results[col] = {\n",
    "        'Market Beta': beta,\n",
    "        'Treynor Ratio (Annualized)': treynor_ratio_annual,\n",
    "        'Information Ratio (Annualized)': information_ratio_annual\n",
    "    }\n",
    "\n",
    "regression_results_df = pd.DataFrame(regression_results).T\n",
    "print(regression_results_df)\n"
   ]
  },
  {
   "cell_type": "markdown",
   "id": "9dd139ed",
   "metadata": {},
   "source": [
    "## 4. \n",
    "\n",
    "Discuss the previous statistics, and what they tell us about...\n",
    "\n",
    "* the differences between SPY and the hedge-fund series?\n",
    "* which performs better between HDG and QAI.\n",
    "* whether HDG and the ML series capture the most notable properties of HFRI."
   ]
  },
  {
   "cell_type": "markdown",
   "id": "9e51817a",
   "metadata": {},
   "source": [
    "1. Differences Between SPY and the Hedge-Fund Series:\n",
    "The market betas for all the hedge-fund indices are significantly below 1, with values ranging from 0.298 (QAI) to 0.352 (HDG). This indicates that these hedge-fund indices have low sensitivity to market movements compared to SPY. In other words, hedge funds, as represented by these indices, are not as highly correlated with SPY, confirming their goal of offering diversification and market-neutral strategies.\n",
    "\n",
    "Additionally, the Treynor Ratios are very low across the board (ranging from 0.020 for HDG to 0.040 for HFRIFWI), showing that even after adjusting for beta, the hedge-fund indices do not generate substantial risk-adjusted returns relative to SPY. This reinforces the idea that hedge funds may not be focused on maximizing returns relative to market risk (beta) but instead focus on absolute returns.\n",
    "\n",
    "2. Which Performs Better Between HDG and QAI?\n",
    "Based on the Sharpe Ratios, QAI (0.513) performs better than HDG (0.425). This suggests that QAI delivers better risk-adjusted returns overall.\n",
    "\n",
    "Volatility: QAI also has lower annualized volatility (0.05) compared to HDG (0.058), indicating that QAI exhibits more stability in returns.\n",
    "\n",
    "Drawdown: The maximum drawdowns for HDG (-14.1%) and QAI (-13.8%) are similar, but QAI recovered slightly faster, indicating more resilience.\n",
    "\n",
    "Tail Risk: Both indices have similar tail risk measures (VaR and CVaR), but QAI has a less negative skewness (-0.43) compared to HDG (-0.25), meaning that QAI has less extreme negative outliers than HDG.\n",
    "\n",
    "3. Do HDG and the ML Series Capture the Notable Properties of HFRI?\n",
    "No, they don’t fully capture the notable properties of HFRI. While the betas are similar (around 0.34), HFRI has a significantly higher Sharpe Ratio (0.812 vs. ~0.6 for ML series and 0.425 for HDG) and greater excess kurtosis (2.54 vs. negative values for HDG and ML series), indicating more tail risk and extreme events. HFRI also shows more negative skewness, reflecting higher downside risk. In contrast, HDG and the ML series display lower risk-adjusted returns and smoother performance, missing the more aggressive risk-return profile typical of hedge funds."
   ]
  },
  {
   "cell_type": "markdown",
   "id": "efc199e0",
   "metadata": {},
   "source": [
    "## 5. \n",
    "\n",
    "Report the correlation matrix for these assets.\n",
    "* Show the correlations as a heat map.\n",
    "* Which series have the highest and lowest correlations?"
   ]
  },
  {
   "cell_type": "code",
   "execution_count": 52,
   "id": "58cf398d",
   "metadata": {},
   "outputs": [
    {
     "data": {
      "image/png": "[encoded data removed]",
      "text/plain": [
       "<Figure size 1000x600 with 2 Axes>"
      ]
     },
     "metadata": {},
     "output_type": "display_data"
    },
    {
     "name": "stdout",
     "output_type": "stream",
     "text": [
      "Highest correlation: MLEIFCTX Index and MLEIFCTR Index with correlation 0.9999\n",
      "Lowest correlation: QAI US Equity and HFRIFWI Index with correlation 0.8530\n"
     ]
    }
   ],
   "source": [
    "import pandas as pd\n",
    "import seaborn as sns\n",
    "import matplotlib.pyplot as plt\n",
    "\n",
    "df = pd.read_excel(file_path, sheet_name='hedge_fund_series')\n",
    "correlation_matrix = df.iloc[:, 1:].corr()\n",
    "\n",
    "# Plot the correlation matrix as a heatmap\n",
    "plt.figure(figsize=(10, 6))\n",
    "sns.heatmap(correlation_matrix, annot=True, cmap='coolwarm', vmin=-1, vmax=1)\n",
    "plt.title('Correlation Matrix Heatmap')\n",
    "plt.show()\n",
    "\n",
    "# Find the highest and lowest correlations\n",
    "# Flatten the correlation matrix to get pairs\n",
    "correlation_pairs = correlation_matrix.unstack().reset_index()\n",
    "correlation_pairs.columns = ['Series1', 'Series2', 'Correlation']\n",
    "\n",
    "# Remove self-correlation\n",
    "correlation_pairs = correlation_pairs[correlation_pairs['Series1'] != correlation_pairs['Series2']]\n",
    "\n",
    "# Sort the correlations\n",
    "sorted_correlations = correlation_pairs.sort_values(by='Correlation', ascending=False)\n",
    "\n",
    "# Find the highest and lowest correlations\n",
    "highest_correlation = sorted_correlations.iloc[0]\n",
    "lowest_correlation = sorted_correlations.iloc[-1]\n",
    "\n",
    "# Print the results\n",
    "print(f\"Highest correlation: {highest_correlation['Series1']} and {highest_correlation['Series2']} with correlation {highest_correlation['Correlation']:.4f}\")\n",
    "print(f\"Lowest correlation: {lowest_correlation['Series1']} and {lowest_correlation['Series2']} with correlation {lowest_correlation['Correlation']:.4f}\")\n"
   ]
  },
  {
   "cell_type": "markdown",
   "id": "f79554a0",
   "metadata": {},
   "source": [
    "## 6.\n",
    "\n",
    "Replicate HFRI with the six factors listed on the \"merrill factors\" tab. Include a constant, and run the unrestricted regression,\n",
    "\n",
    "$\\newcommand{\\hfri}{\\text{hfri}}$\n",
    "$\\newcommand{\\merr}{\\text{merr}}$\n",
    "\n",
    "$$\\begin{align}\n",
    "r^{\\hfri}_{t} &= \\alpha^{\\merr} + x_{t}^{\\merr}\\beta^{\\merr} + \\epsilon_{t}^{\\merr}\\\\[5pt]\n",
    "\\hat{r}^{\\hfri}_{t} &= \\hat{\\alpha}^{\\merr} + x_{t}^{\\merr}\\hat{\\beta}^{\\merr}\n",
    "\\end{align}$$\n",
    "\n",
    "Note that the second equation is just our notation for the fitted replication.\n",
    "\n",
    "a. Report the intercept and betas.\n",
    "b. Are the betas realistic position sizes, or do they require huge long-short positions?\n",
    "c. Report the R-squared.\n",
    "d. Report the volatility of $\\epsilon^{\\merr}$, the tracking error."
   ]
  },
  {
   "cell_type": "code",
   "execution_count": 53,
   "id": "4e64c4ea",
   "metadata": {},
   "outputs": [
    {
     "name": "stdout",
     "output_type": "stream",
     "text": [
      "Intercept (alpha): 0.0012353360960779625\n",
      "Betas (factor loadings):\n",
      "SPY US Equity    0.036483\n",
      "USGG3M Index     0.146336\n",
      "EEM US Equity    0.081611\n",
      "EFA US Equity    0.084638\n",
      "EUO US Equity    0.028806\n",
      "IWM US Equity    0.145111\n",
      "dtype: float64\n",
      "\n",
      "Are betas realistic position sizes? Yes\n",
      "\n",
      "R-squared: 0.8396762289195674\n",
      "\n",
      "Tracking Error (volatility of residuals): 0.006852878265878925\n",
      "Volatility of epsilon (tracking error): 0.006852878265878925\n"
     ]
    }
   ],
   "source": [
    "import statsmodels.api as sm\n",
    "import numpy as np\n",
    "\n",
    "# Assume hedge_fund_data['HFRIFWI Index'] contains the HFRI returns\n",
    "hfri_returns = hedge_fund_data['HFRIFWI Index']\n",
    "\n",
    "# Use the six relevant factors from the merrill factors data\n",
    "factors = merrill_factors_data[['SPY US Equity', 'USGG3M Index', 'EEM US Equity', 'EFA US Equity', 'EUO US Equity', 'IWM US Equity']]\n",
    "\n",
    "# Add a constant (intercept) to the factors\n",
    "factors_with_const = sm.add_constant(factors)\n",
    "\n",
    "# Run the unrestricted regression\n",
    "model = sm.OLS(hfri_returns, factors_with_const).fit()\n",
    "\n",
    "# Report the intercept (alpha) and betas\n",
    "print(\"Intercept (alpha):\", model.params[0])\n",
    "print(\"Betas (factor loadings):\")\n",
    "print(model.params[1:])\n",
    "\n",
    "# Check if betas are realistic (within a typical range, say between -1 and 1)\n",
    "are_betas_realistic = all(model.params[1:].abs() <= 1)\n",
    "print(\"\\nAre betas realistic position sizes?\", \"Yes\" if are_betas_realistic else \"No\")\n",
    "\n",
    "# Report the R-squared\n",
    "print(\"\\nR-squared:\", model.rsquared)\n",
    "\n",
    "# Report the tracking error (standard deviation of residuals)\n",
    "tracking_error = np.std(model.resid)\n",
    "print(\"\\nTracking Error (volatility of residuals):\", tracking_error)\n",
    "\n",
    "# Report the volatility of residuals (epsilon term)\n",
    "residual_volatility = np.std(model.resid)\n",
    "print(\"Volatility of epsilon (tracking error):\", residual_volatility)\n"
   ]
  },
  {
   "cell_type": "markdown",
   "id": "9760f909",
   "metadata": {},
   "source": [
    "## 7.\n",
    "\n",
    "Let's examine the replication out-of-sample (OOS).\n",
    "\n",
    "Starting with $t = 61$ month of the sample, do the following:\n",
    "\n",
    "* Use the previous 60 months of data to estimate the regression equation. \n",
    "This gives time-t estimates of the regression parameters, $\\tilde{\\alpha}^{\\merr}_{t}$ and $\\tilde{\\beta}^{\\merr}_{t}$.\n",
    "\n",
    "* Use the estimated regression parameters, along with the time-t regressor values, $x^{\\merr}_{t}$, calculate the time-t replication value that is, with respect to the regression estimate, built \"out-of-sample\" (OOS).\n",
    "\n",
    "$$\\hat{r}^{\\hfri}_{t} \\equiv \\tilde{\\alpha}^{\\merr} + (x_{t}^{\\merr})'\\tilde{\\beta}^{\\merr}$$\n",
    "\n",
    "* Step forward to $t = 62$, and now use $t = 2$ through $t = 61$ for the estimation. Re-run the steps above, and continue this process throughout the data series. Thus, we are running a rolling, 60-month regression for each point-in-time.\n",
    "\n",
    "How well does the out-of-sample replication perform with respect to the target?"
   ]
  },
  {
   "cell_type": "code",
   "execution_count": 54,
   "id": "262a48f6",
   "metadata": {},
   "outputs": [
    {
     "name": "stdout",
     "output_type": "stream",
     "text": [
      "Mean Tracking Error: 0.0013060019042359905\n",
      "Volatility of Tracking Error: 0.008239912074111726\n",
      "Out-of-Sample R-squared: 0.7994295353835995\n"
     ]
    }
   ],
   "source": [
    "window_size = 60\n",
    "\n",
    "# Initialize lists to store out-of-sample predictions and tracking error\n",
    "oos_predictions = []\n",
    "tracking_errors = []\n",
    "\n",
    "# Starting at t = 61\n",
    "for t in range(window_size, len(hfri_returns)):\n",
    "    # Use the previous 60 months to estimate the regression parameters\n",
    "    y_train = hfri_returns[t - window_size:t]\n",
    "    X_train = factors_with_const[t - window_size:t]\n",
    "    \n",
    "    # Fit the regression model\n",
    "    model = sm.OLS(y_train, X_train).fit()\n",
    "    \n",
    "    # Get the current factors for the out-of-sample prediction\n",
    "    X_oos = factors_with_const.iloc[t]\n",
    "    \n",
    "    # Predict the out-of-sample return using the estimated parameters\n",
    "    oos_prediction = model.predict(X_oos)\n",
    "    oos_predictions.append(oos_prediction)\n",
    "    \n",
    "    # Calculate tracking error (difference between actual and predicted return)\n",
    "    actual_return = hfri_returns.iloc[t]\n",
    "    tracking_error = actual_return - oos_prediction\n",
    "    tracking_errors.append(tracking_error)\n",
    "\n",
    "# Convert predictions and tracking errors to arrays\n",
    "oos_predictions = np.array(oos_predictions).flatten()\n",
    "tracking_errors = np.array(tracking_errors).flatten()\n",
    "\n",
    "# Calculate performance metrics for out-of-sample replication\n",
    "mean_tracking_error = np.mean(tracking_errors)\n",
    "volatility_of_tracking_error = np.std(tracking_errors)\n",
    "r_squared_oos = 1 - np.sum(tracking_errors**2) / np.sum((hfri_returns[window_size:] - np.mean(hfri_returns[window_size:]))**2)\n",
    "\n",
    "# Print results\n",
    "print(\"Mean Tracking Error:\", mean_tracking_error)\n",
    "print(\"Volatility of Tracking Error:\", volatility_of_tracking_error)\n",
    "print(\"Out-of-Sample R-squared:\", r_squared_oos)\n"
   ]
  },
  {
   "cell_type": "markdown",
   "id": "6a99ebe8",
   "metadata": {},
   "source": [
    "The mean tracking error is very close to zero, and the volatility of the tracking error is quite low, which means that the model's predictions are consistently close to the actual HFRI returns.\n",
    "The R-squared of almost 80% indicates that the model explains the majority of the variation in HFRI returns, suggesting a strong replication.\n",
    "Overall, the out-of-sample replication performs very well, accurately tracking the target with minimal error and explaining most of the return variability. This implies that the chosen factors and the rolling regression methodology are effective at replicating the hedge fund index (HFRI) out-of-sample.\n"
   ]
  },
  {
   "cell_type": "markdown",
   "id": "2041c6a8",
   "metadata": {},
   "source": [
    "## 8.\n",
    "\n",
    "We estimated the replications using an intercept. Try the full-sample estimation, but this time without an intercept.\n",
    "\n",
    "$$\\begin{align}\n",
    "r^{\\hfri}_{t} &= \\alpha^{merr} + x_{t}^{\\merr}\\beta^{\\merr} + \\epsilon_{t}^{\\merr}\\\\[5pt]\n",
    "\\check{r}^{\\hfri}_{t} &= \\check{\\alpha}^{\\merr} + x_{t}^{\\merr}\\check{\\beta}^{\\merr}\n",
    "\\end{align}$$\n",
    "\n",
    "Report\n",
    "\n",
    "* the regression beta. How does it compare to the estimated beta with an intercept, $\\hat{\\beta}^{\\merr}$?\n",
    "\n",
    "* the mean of the fitted value, $\\check{r}^{\\hfri}_{t}$. How does it compare to the mean of the HFRI?\n",
    "\n",
    "* the correlations of the fitted values, $\\check{r}^{\\hfri}_{t}$ to the HFRI. How does the correlation compare to that of the fitted values with an intercept, $\\hat{r}^{\\hfri}_{t}$\n",
    "\n",
    "Do you think Merrill and ProShares fit their replicators with an intercept or not?"
   ]
  },
  {
   "cell_type": "code",
   "execution_count": 55,
   "id": "915fdd6f",
   "metadata": {},
   "outputs": [
    {
     "name": "stdout",
     "output_type": "stream",
     "text": [
      "Regression Betas (without intercept):\n",
      "SPY US Equity    0.050667\n",
      "USGG3M Index     0.499336\n",
      "EEM US Equity    0.080866\n",
      "EFA US Equity    0.079146\n",
      "EUO US Equity    0.031373\n",
      "IWM US Equity    0.142651\n",
      "dtype: float64\n",
      "\n",
      "Regression Betas (with intercept):\n",
      "const            0.003744\n",
      "SPY US Equity    0.009885\n",
      "USGG3M Index    -0.407423\n",
      "EEM US Equity    0.110837\n",
      "EFA US Equity    0.027656\n",
      "EUO US Equity    0.032872\n",
      "IWM US Equity    0.206847\n",
      "dtype: float64\n",
      "\n",
      "Mean of the fitted values (without intercept): 0.003295211275663279\n",
      "Mean of the HFRI returns: 0.004024576917344342\n",
      "\n",
      "Correlation of fitted values (without intercept) with HFRI: 0.9156937941419594\n",
      "Correlation of fitted values (with intercept) with HFRI: -0.15890127587845398\n"
     ]
    }
   ],
   "source": [
    "factors_no_const = factors \n",
    "\n",
    "# Run the regression without an intercept\n",
    "model_no_intercept = sm.OLS(hfri_returns, factors_no_const).fit()\n",
    "\n",
    "# Report the regression beta coefficients (without intercept)\n",
    "print(\"Regression Betas (without intercept):\")\n",
    "print(model_no_intercept.params)\n",
    "\n",
    "# Compare to the beta with intercept from the previous model (assuming 'model' is with intercept)\n",
    "print(\"\\nRegression Betas (with intercept):\")\n",
    "print(model.params)\n",
    "\n",
    "# Calculate the mean of the fitted values (without intercept)\n",
    "fitted_values_no_intercept = model_no_intercept.fittedvalues\n",
    "mean_fitted_value_no_intercept = fitted_values_no_intercept.mean()\n",
    "print(\"\\nMean of the fitted values (without intercept):\", mean_fitted_value_no_intercept)\n",
    "\n",
    "# Compare to the mean of the HFRI returns\n",
    "mean_hfri_returns = hfri_returns.mean()\n",
    "print(\"Mean of the HFRI returns:\", mean_hfri_returns)\n",
    "\n",
    "# Calculate the correlation of the fitted values to the actual HFRI returns (without intercept)\n",
    "min_length_no_intercept = min(len(fitted_values_no_intercept), len(hfri_returns))\n",
    "fitted_values_no_intercept_trimmed = fitted_values_no_intercept[:min_length_no_intercept]\n",
    "hfri_returns_trimmed_no_intercept = hfri_returns[:min_length_no_intercept]\n",
    "\n",
    "correlation_no_intercept = np.corrcoef(fitted_values_no_intercept_trimmed, hfri_returns_trimmed_no_intercept)[0, 1]\n",
    "print(\"\\nCorrelation of fitted values (without intercept) with HFRI:\", correlation_no_intercept)\n",
    "\n",
    "# Compare to the correlation with the fitted values from the model with intercept\n",
    "fitted_values_with_intercept = model.fittedvalues\n",
    "min_length_with_intercept = min(len(fitted_values_with_intercept), len(hfri_returns))\n",
    "fitted_values_with_intercept_trimmed = fitted_values_with_intercept[:min_length_with_intercept]\n",
    "hfri_returns_trimmed_with_intercept = hfri_returns[:min_length_with_intercept]\n",
    "\n",
    "correlation_with_intercept = np.corrcoef(fitted_values_with_intercept_trimmed, hfri_returns_trimmed_with_intercept)[0, 1]\n",
    "print(\"Correlation of fitted values (with intercept) with HFRI:\", correlation_with_intercept)\n"
   ]
  },
  {
   "cell_type": "markdown",
   "id": "3f4ee88a",
   "metadata": {},
   "source": [
    "1. Regression Beta Comparison:\n",
    "Without Intercept: The betas are generally higher, notably with USGG3M Index at 0.499336 and IWM US Equity at 0.142651.\n",
    "With Intercept: The betas change significantly, such as USGG3M Index flipping to -0.407423 and IWM US Equity increasing to 0.206847.\n",
    "Including the intercept distorts the factor loadings, which suggests that the model without an intercept captures the true factor exposures more effectively.\n",
    "\n",
    "2. Mean of Fitted Values:\n",
    "Without Intercept: Mean of fitted values is 0.00329, which is very close to the actual mean HFRI return of 0.00402.\n",
    "With Intercept: The inclusion of the intercept slightly adjusts the mean fitted value, but it doesn't improve the fit as much as the model without an intercept.\n",
    "3. Correlation of Fitted Values to HFRI:\n",
    "Without Intercept: The correlation between the fitted values and HFRI is 0.9157, indicating a strong fit.\n",
    "With Intercept: The correlation drops drastically to -0.1589, showing that the model with an intercept performs poorly.\n",
    "Conclusion:\n",
    "\n",
    "Based on the results, Merrill and ProShares likely fit their replicators without an intercept, as the model without an intercept provides a much better fit and higher correlation with the HFRI."
   ]
  },
  {
   "cell_type": "markdown",
   "id": "f7433d2f",
   "metadata": {},
   "source": [
    "***"
   ]
  },
  {
   "cell_type": "markdown",
   "id": "4f5883f2",
   "metadata": {},
   "source": [
    "# 3.  Extensions\n",
    "<i>This section is not graded, and you do not need to submit it. Still, we may discuss it in class, in which case, you would be expected to know it."
   ]
  },
  {
   "cell_type": "markdown",
   "id": "2c042de1",
   "metadata": {},
   "source": [
    "## 1. \n",
    "\n",
    "Merrill constrains the weights of each asset in its replication regression of HFRI. Try constraining your weights by re-doing 2.6.\n",
    "\n",
    "* Use Non-Negative Least Squares (NNLS) instead of OLS.\n",
    "* Go further by using a Generalized Linear Model to put separate interval constraints on each beta, rather than simply constraining them to be non-negative.\n",
    "\n",
    "#### Hints\n",
    "* Try using LinearRegression in scikit-learn with the parameter `positive=True`. \n",
    "* Try using GLM in statsmodels."
   ]
  },
  {
   "cell_type": "markdown",
   "id": "02ee228d",
   "metadata": {},
   "source": [
    "## 2. \n",
    "\n",
    "Let's decompose a few other targets to see if they behave as their name suggests.\n",
    "\n",
    "* Regress HEFA on the same style factors used to decompose HFRI. Does HEFA appear to be a currency-hedged version of EFA?\n",
    "\n",
    "* Decompose TRVCI with the same style factors used to decompose HFRI. The TRVCI Index tracks venture capital funds--in terms of our styles, what best describes venture capital?\n",
    "\n",
    "* TAIL is an ETF that tracks SPY, but that also buys put options to protect against market downturns. Calculate the statistics in questions 2.1-2.3 for TAIL. Does it seem to behave as indicated by this description? That is, does it have high correlation to SPY while delivering lower tail risk?"
   ]
  },
  {
   "cell_type": "markdown",
   "id": "9c20b444",
   "metadata": {},
   "source": [
    "## 3. \n",
    "\n",
    "The ProShares case introduces Levered ETFs. ProShares made much of its name originally through levered, or \"geared\" ETFs.\n",
    "\n",
    "Explain conceptually why Levered ETFs may track their index well for a given day but diverge over time. How is this exacerbated in volatile periods like 2008?\n",
    "\n",
    "## 4.\n",
    "\n",
    "Analyze SPXU and UPRO relative to SPY.\n",
    "- SPXU is ProShares -3x SPX ETF.\n",
    "- UPRO is ProShres +3x SPX ETF.\n",
    "\n",
    "Questions:\n",
    "* Analyze them with the statistics from 2.1-2.3. \n",
    "\n",
    "* Do these two ETFs seem to live up to their names?\n",
    "\n",
    "* Plot the cumulative returns of both these ETFs along with SPY.\n",
    "\n",
    "* What do you conclude about levered ETFs?"
   ]
  },
  {
   "cell_type": "markdown",
   "id": "2acea83e",
   "metadata": {},
   "source": [
    "***"
   ]
  }
 ],
 "metadata": {
  "hide_input": false,
  "kernelspec": {
   "display_name": "Python 3 (ipykernel)",
   "language": "python",
   "name": "python3"
  },
  "language_info": {
   "codemirror_mode": {
    "name": "ipython",
    "version": 3
   },
   "file_extension": ".py",
   "mimetype": "text/x-python",
   "name": "python",
   "nbconvert_exporter": "python",
   "pygments_lexer": "ipython3",
   "version": "3.11.5"
  }
 },
 "nbformat": 4,
 "nbformat_minor": 5
}
