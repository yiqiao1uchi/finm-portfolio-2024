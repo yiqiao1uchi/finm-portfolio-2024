{
 "cells": [
  {
   "cell_type": "markdown",
   "id": "559895d2",
   "metadata": {},
   "source": [
    "# Midterm 1\n",
    "\n",
    "## FINM 36700 - 2024\n",
    "\n",
    "### UChicago Financial Mathematics\n",
    "\n",
    "* Mark Hendricks\n",
    "* hendricks@uchicago.edu"
   ]
  },
  {
   "cell_type": "markdown",
   "id": "01cde8d3",
   "metadata": {},
   "source": [
    "# Instructions"
   ]
  },
  {
   "cell_type": "markdown",
   "id": "cc273c1a",
   "metadata": {},
   "source": [
    "## Please note the following:\n",
    "\n",
    "Points\n",
    "* The exam is `100` points.\n",
    "* You have `125` minutes to complete the exam.\n",
    "* For every minute late you submit the exam, you will lose one point.\n",
    "\n",
    "\n",
    "Submission\n",
    "* You will upload your solution to the `Midterm 1` assignment on Canvas, where you downloaded this. (Be sure to **submit** on Canvas, not just **save** on Canvas.\n",
    "* Your submission should be readable, (the graders can understand your answers,)\n",
    "* and it should **include all code used in your analysis in a file format that the code can be executed.** \n",
    "\n",
    "Rules\n",
    "* The exam is open-material, closed-communication.\n",
    "* You do not need to cite material from the course github repo--you are welcome to use the code posted there without citation.\n",
    "\n",
    "Advice\n",
    "* If you find any question to be unclear, state your interpretation and proceed. We will only answer questions of interpretation if there is a typo, error, etc.\n",
    "* The exam will be graded for partial credit."
   ]
  },
  {
   "cell_type": "markdown",
   "id": "624f27b1",
   "metadata": {},
   "source": [
    "## Data\n",
    "\n",
    "**All data files are found in the class github repo, in the `data` folder.**\n",
    "\n",
    "This exam makes use of the following data files:\n",
    "* `midterm_1_data.xlsx`\n",
    "\n",
    "This file has sheets for...\n",
    "* `stocks excess returns` - excess returns of the 14 biggest companies in the S&P.\n",
    "* `proshares excess returns` - excess returns of ETFs and indexes from the Proshares case study.\n",
    "* `fx carry excess returns` - excess returns from FX products.\n",
    "\n",
    "Note the data is **monthly** for the first two sheets (stocks and proshares). Any annualizations for those two sheets should use `12` months in a year. Annualization for the third sheet (fx carry excess returns) is explained in section 4."
   ]
  },
  {
   "cell_type": "markdown",
   "id": "ebf6e066",
   "metadata": {},
   "source": [
    "## Scoring\n",
    "\n",
    "| Problem | Points |\n",
    "|---------|--------|\n",
    "| 1       | 15     |\n",
    "| 2       | 25     |\n",
    "| 3       | 35     |\n",
    "| 4       | 25     |"
   ]
  },
  {
   "cell_type": "markdown",
   "id": "7fb2fc26",
   "metadata": {},
   "source": [
    "### Each numbered question is worth 5 points unless otherwise specified."
   ]
  },
  {
   "cell_type": "markdown",
   "id": "632ce7d4",
   "metadata": {},
   "source": [
    "***"
   ]
  },
  {
   "cell_type": "markdown",
   "id": "50a39225-f8d7-4a42-a675-fb9716e55932",
   "metadata": {},
   "source": [
    "# 1. Short Answer"
   ]
  },
  {
   "cell_type": "markdown",
   "id": "127d44ea-9d06-4bba-ac24-f19e9376c8d6",
   "metadata": {},
   "source": [
    "#### No Data Needed\n",
    "\n",
    "These problems do not require any data file. Rather, analyze them conceptually. "
   ]
  },
  {
   "cell_type": "markdown",
   "id": "668aaba8-6dcf-4700-9714-36111e1c67af",
   "metadata": {},
   "source": [
    "### 1.\n",
    "\n",
    "#### (10pts)\n",
    "\n",
    "In the mean-variance optimization of `homework 1`, suppose we found the mean excess return of TIPS is 4% annualized.\n",
    "\n",
    "Explain--conceptually--how each of the following would have impacted the new (with TIPS) MV solution.\n",
    "* TIPS is found to have correlation of 0% to `IEF` and 0% to SPY.\n",
    "* TIPS is found to have correlation of 100% to `IEF`.\n",
    "\n",
    "Would it be possible for TIPS to have been found to have 0% correlation to every other asset in `homework 1`? Explain."
   ]
  },
  {
   "cell_type": "markdown",
   "id": "0b637789",
   "metadata": {},
   "source": [
    "1.  If TIPS is found to have zero correlation with both IEF (U.S. Treasury bonds) and SPY (S&P 500 equities), it would serve as an ideal diversifier in the portfolio.\n",
    "\n",
    "In a mean-variance optimization, assets with lower correlations help reduce overall portfolio risk without sacrificing return. Since TIPS has a 4% expected annualized return, which is attractive compared to IEF and bonds, and provides diversification by being uncorrelated with both IEF and SPY, it would likely result in a higher allocation to TIPS. This is because its inclusion reduces the overall portfolio volatility while maintaining a good expected return. \n",
    "\n",
    "2.  If TIPS is found to have a correlation of 100% with IEF, it means that TIPS and IEF behave identically in terms of returns. This would make TIPS redundant in the context of mean-variance optimization because adding TIPS wouldn't provide any additional diversification benefit to the portfolio. The allocation to both would depend solely on their relative returns and risks. Since Tips provides 4% excess return and real yield of US Treasury bonds had been historically 2%, then the optimizer would likely allocate more to TIPS and reduce the allocation to IEF.\n",
    "\n",
    "3. It is unlikely for TIPS to have 0% correlation with every other asset. TIPS are sensitive to inflation and interest rates, which also affect other fixed-income assets, particularly IEF (Treasury bonds). Therefore, while TIPS may have low correlation with equities (SPY) due to their differing risk factors, they would likely have some degree of correlation with other bonds like IEF."
   ]
  },
  {
   "cell_type": "markdown",
   "id": "fe910811-eddc-48ae-9e3c-2b99e6c62dec",
   "metadata": {},
   "source": [
    "### 2. \n",
    "\n",
    "Depending on the application, one may or may not choose to include an intercept term in a linear factor decomposition of an asset’s returns. In what circumstances would I prefer to include an intercept, and in what circumstances would I not?"
   ]
  },
  {
   "cell_type": "markdown",
   "id": "864f8599",
   "metadata": {},
   "source": [
    "1. Include an intercept: \n",
    "If we want to measure alpha, or the portion of the asset's returns that cannot be explained by the factors in the model, you should include an intercept. In addition, by including the intercept, we could test the model fit, to see whether the model's predicted returns match the actual average returns of the asset. If the model is well specified and there is no alpha, the intercept should be statistically insignificant (close to zero). \n",
    "\n",
    "2. Not include an intercept:\n",
    "If the objective of your factor decomposition is purely to decompose returns into their systematic risk components without making any assumptions about alpha or manager skill, you might exclude the intercept. \n",
    "In some economic models, it is assumed that there is no intercept because the asset’s expected return is entirely driven by factor exposures (such as market risk, size, value). For example, in the Capital Asset Pricing Model (CAPM) and Fama-French multi-factor models, the intercept might be omitted if the focus is on factor risk premiums, assuming that in an efficient market, there is no persistent alpha (Sharpe, 1964; Fama & French, 1993)."
   ]
  },
  {
   "cell_type": "markdown",
   "id": "e38b33d9-8628-4bf5-a662-73da5dfe0ace",
   "metadata": {},
   "source": [
    "***"
   ]
  },
  {
   "cell_type": "markdown",
   "id": "a78ee6f4",
   "metadata": {},
   "source": [
    "# 2. Portfolio Allocation\n",
    "\n",
    "For this question you will only use data from the sheet `stocks excess returns`.\n",
    "\n",
    "It contains excess returns for the 14 largest stocks in the S&P."
   ]
  },
  {
   "cell_type": "markdown",
   "id": "2e423a6d",
   "metadata": {},
   "source": [
    "Citation: Code thanks to the help of ChatGBT"
   ]
  },
  {
   "cell_type": "markdown",
   "id": "ec8d1b59",
   "metadata": {},
   "source": [
    "### 1.\n",
    "\n",
    "Calculate the tangency portfolio from the start of the sample to December of 2018 (to 2018-12-31), which we call in-sample period. Use the following methods:\n",
    "- Traditional tangency portfolio.\n",
    "- Regularized tangency portfolio (divide by 2 every element outside of the diagonal in the covariance matrix prior to the calculation).\n",
    "\n",
    "Return:\n",
    "- The weights of each asset for the traditional tangency portfolio and the regularized tangency portfolio.\n",
    "- The sum of absolute values of the weights for the traditional tangency portfolio and the regularized tangency portfolio:\n",
    "\n",
    "$$\n",
    "\\sum_{i=1}^{n} |w_i|\n",
    "$$\n"
   ]
  },
  {
   "cell_type": "code",
   "execution_count": 86,
   "id": "6de39ccb",
   "metadata": {},
   "outputs": [
    {
     "data": {
      "text/html": [
       "<div>\n",
       "<style scoped>\n",
       "    .dataframe tbody tr th:only-of-type {\n",
       "        vertical-align: middle;\n",
       "    }\n",
       "\n",
       "    .dataframe tbody tr th {\n",
       "        vertical-align: top;\n",
       "    }\n",
       "\n",
       "    .dataframe thead th {\n",
       "        text-align: right;\n",
       "    }\n",
       "</style>\n",
       "<table border=\"1\" class=\"dataframe\">\n",
       "  <thead>\n",
       "    <tr style=\"text-align: right;\">\n",
       "      <th></th>\n",
       "      <th>date</th>\n",
       "      <th>AAPL</th>\n",
       "      <th>AMZN</th>\n",
       "      <th>BRK-B</th>\n",
       "      <th>GOOGL</th>\n",
       "      <th>JNJ</th>\n",
       "      <th>JPM</th>\n",
       "      <th>LLY</th>\n",
       "      <th>META</th>\n",
       "      <th>MSFT</th>\n",
       "      <th>NVDA</th>\n",
       "      <th>TSLA</th>\n",
       "      <th>UNH</th>\n",
       "      <th>V</th>\n",
       "      <th>XOM</th>\n",
       "    </tr>\n",
       "  </thead>\n",
       "  <tbody>\n",
       "    <tr>\n",
       "      <th>0</th>\n",
       "      <td>2012-06-30</td>\n",
       "      <td>0.010943</td>\n",
       "      <td>0.072609</td>\n",
       "      <td>0.050116</td>\n",
       "      <td>-0.001270</td>\n",
       "      <td>0.082263</td>\n",
       "      <td>0.077918</td>\n",
       "      <td>0.047953</td>\n",
       "      <td>0.050766</td>\n",
       "      <td>0.048052</td>\n",
       "      <td>0.111916</td>\n",
       "      <td>0.060768</td>\n",
       "      <td>0.052919</td>\n",
       "      <td>0.073267</td>\n",
       "      <td>0.088352</td>\n",
       "    </tr>\n",
       "    <tr>\n",
       "      <th>1</th>\n",
       "      <td>2012-07-31</td>\n",
       "      <td>0.045822</td>\n",
       "      <td>0.021677</td>\n",
       "      <td>0.018121</td>\n",
       "      <td>0.091196</td>\n",
       "      <td>0.024570</td>\n",
       "      <td>0.015958</td>\n",
       "      <td>0.026101</td>\n",
       "      <td>-0.301929</td>\n",
       "      <td>-0.036613</td>\n",
       "      <td>-0.020260</td>\n",
       "      <td>-0.123682</td>\n",
       "      <td>-0.126667</td>\n",
       "      <td>0.044002</td>\n",
       "      <td>0.014958</td>\n",
       "    </tr>\n",
       "    <tr>\n",
       "      <th>2</th>\n",
       "      <td>2012-08-31</td>\n",
       "      <td>0.093695</td>\n",
       "      <td>0.063985</td>\n",
       "      <td>-0.006075</td>\n",
       "      <td>0.082161</td>\n",
       "      <td>-0.017188</td>\n",
       "      <td>0.031486</td>\n",
       "      <td>0.031399</td>\n",
       "      <td>-0.168306</td>\n",
       "      <td>0.052556</td>\n",
       "      <td>0.036008</td>\n",
       "      <td>0.039935</td>\n",
       "      <td>0.062649</td>\n",
       "      <td>-0.004849</td>\n",
       "      <td>0.011533</td>\n",
       "    </tr>\n",
       "    <tr>\n",
       "      <th>3</th>\n",
       "      <td>2012-09-30</td>\n",
       "      <td>0.002878</td>\n",
       "      <td>0.024450</td>\n",
       "      <td>0.045849</td>\n",
       "      <td>0.101397</td>\n",
       "      <td>0.022030</td>\n",
       "      <td>0.090012</td>\n",
       "      <td>0.055749</td>\n",
       "      <td>0.199417</td>\n",
       "      <td>-0.034312</td>\n",
       "      <td>-0.049099</td>\n",
       "      <td>0.026730</td>\n",
       "      <td>0.024657</td>\n",
       "      <td>0.047099</td>\n",
       "      <td>0.047619</td>\n",
       "    </tr>\n",
       "    <tr>\n",
       "      <th>4</th>\n",
       "      <td>2012-10-31</td>\n",
       "      <td>-0.107527</td>\n",
       "      <td>-0.084192</td>\n",
       "      <td>-0.020903</td>\n",
       "      <td>-0.098271</td>\n",
       "      <td>0.027789</td>\n",
       "      <td>0.037321</td>\n",
       "      <td>0.025805</td>\n",
       "      <td>-0.025320</td>\n",
       "      <td>-0.040922</td>\n",
       "      <td>-0.101877</td>\n",
       "      <td>-0.039204</td>\n",
       "      <td>0.010720</td>\n",
       "      <td>0.033436</td>\n",
       "      <td>-0.002989</td>\n",
       "    </tr>\n",
       "  </tbody>\n",
       "</table>\n",
       "</div>"
      ],
      "text/plain": [
       "        date      AAPL      AMZN     BRK-B     GOOGL       JNJ       JPM  \\\n",
       "0 2012-06-30  0.010943  0.072609  0.050116 -0.001270  0.082263  0.077918   \n",
       "1 2012-07-31  0.045822  0.021677  0.018121  0.091196  0.024570  0.015958   \n",
       "2 2012-08-31  0.093695  0.063985 -0.006075  0.082161 -0.017188  0.031486   \n",
       "3 2012-09-30  0.002878  0.024450  0.045849  0.101397  0.022030  0.090012   \n",
       "4 2012-10-31 -0.107527 -0.084192 -0.020903 -0.098271  0.027789  0.037321   \n",
       "\n",
       "        LLY      META      MSFT      NVDA      TSLA       UNH         V  \\\n",
       "0  0.047953  0.050766  0.048052  0.111916  0.060768  0.052919  0.073267   \n",
       "1  0.026101 -0.301929 -0.036613 -0.020260 -0.123682 -0.126667  0.044002   \n",
       "2  0.031399 -0.168306  0.052556  0.036008  0.039935  0.062649 -0.004849   \n",
       "3  0.055749  0.199417 -0.034312 -0.049099  0.026730  0.024657  0.047099   \n",
       "4  0.025805 -0.025320 -0.040922 -0.101877 -0.039204  0.010720  0.033436   \n",
       "\n",
       "        XOM  \n",
       "0  0.088352  \n",
       "1  0.014958  \n",
       "2  0.011533  \n",
       "3  0.047619  \n",
       "4 -0.002989  "
      ]
     },
     "execution_count": 86,
     "metadata": {},
     "output_type": "execute_result"
    }
   ],
   "source": [
    "import pandas as pd\n",
    "import numpy as np\n",
    "from scipy.optimize import minimize\n",
    "\n",
    "file_path = '/Users/apple/Desktop/Uchicago/FINM 36700/midterm 1/data/midterm_1_data.xlsx'\n",
    "data = pd.read_excel(file_path, sheet_name='stocks excess returns')\n",
    "data.head()"
   ]
  },
  {
   "cell_type": "code",
   "execution_count": 87,
   "id": "7d2b29b1",
   "metadata": {},
   "outputs": [
    {
     "name": "stdout",
     "output_type": "stream",
     "text": [
      "Traditional Tangency Portfolio Weights: [0.00000000e+00 3.36573653e-17 0.00000000e+00 0.00000000e+00\n",
      " 0.00000000e+00 6.42824494e-03 3.31764299e-01 4.24079419e-02\n",
      " 5.06481017e-02 1.64137807e-01 3.12177327e-02 2.70732540e-01\n",
      " 1.02663333e-01 5.99354273e-17]\n",
      "Regularized Tangency Portfolio Weights: [1.01479386e-02 1.47276901e-02 2.71407953e-02 4.34029669e-02\n",
      " 1.97866896e-18 5.45637211e-02 2.37998379e-01 4.76556345e-02\n",
      " 1.17395088e-01 1.04983822e-01 3.45650867e-02 1.99795463e-01\n",
      " 1.07623414e-01 0.00000000e+00]\n",
      "Sum of absolute traditional weights: 1.0\n",
      "Sum of absolute regularized weights: 1.0000000000000002\n"
     ]
    }
   ],
   "source": [
    "numeric_data = data.drop(columns=['date'])\n",
    "mean_returns = numeric_data.mean()\n",
    "cov_matrix = numeric_data.cov()\n",
    "\n",
    "def portfolio_risk(weights, cov_matrix):\n",
    "    return np.sqrt(weights.T @ cov_matrix @ weights)\n",
    "\n",
    "def negative_sharpe_ratio(weights, mean_returns, cov_matrix, risk_free_rate=0):\n",
    "    portfolio_return = weights.T @ mean_returns\n",
    "    portfolio_volatility = portfolio_risk(weights, cov_matrix)\n",
    "    return -(portfolio_return - risk_free_rate) / portfolio_volatility\n",
    "\n",
    "constraints = ({'type': 'eq', 'fun': lambda weights: np.sum(weights) - 1})\n",
    "\n",
    "# Bounds: no short-selling (weights between 0 and 1)\n",
    "bounds = tuple((0, 1) for _ in range(len(mean_returns)))\n",
    "\n",
    "# Initial guess for weights (equal allocation)\n",
    "initial_guess = np.array([1/len(mean_returns)] * len(mean_returns))\n",
    "\n",
    "# Optimize the traditional tangency portfolio\n",
    "result = minimize(negative_sharpe_ratio, initial_guess, args=(mean_returns, cov_matrix),\n",
    "                  method='SLSQP', bounds=bounds, constraints=constraints)\n",
    "\n",
    "# Extract traditional tangency portfolio weights\n",
    "traditional_weights = result.x\n",
    "print(\"Traditional Tangency Portfolio Weights:\", traditional_weights)\n",
    "\n",
    "# Regularize the covariance matrix (divide off-diagonal elements by 2)\n",
    "regularized_cov_matrix = cov_matrix.copy()\n",
    "for i in range(len(mean_returns)):\n",
    "    for j in range(len(mean_returns)):\n",
    "        if i != j:\n",
    "            regularized_cov_matrix.iloc[i, j] /= 2\n",
    "\n",
    "# Optimize the regularized tangency portfolio\n",
    "result_reg = minimize(negative_sharpe_ratio, initial_guess, args=(mean_returns, regularized_cov_matrix),\n",
    "                      method='SLSQP', bounds=bounds, constraints=constraints)\n",
    "\n",
    "# Extract regularized tangency portfolio weights\n",
    "regularized_weights = result_reg.x\n",
    "print(\"Regularized Tangency Portfolio Weights:\", regularized_weights)\n",
    "\n",
    "# Calculate sum of absolute weights\n",
    "traditional_weight_sum = np.sum(np.abs(traditional_weights))\n",
    "regularized_weight_sum = np.sum(np.abs(regularized_weights))\n",
    "\n",
    "print(\"Sum of absolute traditional weights:\", traditional_weight_sum)\n",
    "print(\"Sum of absolute regularized weights:\", regularized_weight_sum)"
   ]
  },
  {
   "cell_type": "markdown",
   "id": "31da8bdc",
   "metadata": {},
   "source": [
    "### 2.\n",
    "\n",
    "Calculate the annualized summary statistics (mean, Sharpe, vol) of both portfolios in-sample.\n"
   ]
  },
  {
   "cell_type": "code",
   "execution_count": 88,
   "id": "7e91ff8e",
   "metadata": {},
   "outputs": [
    {
     "name": "stdout",
     "output_type": "stream",
     "text": [
      "Traditional Tangency Portfolio Statistics:\n",
      "Annualized Mean Return: 0.3128\n",
      "Annualized Volatility: 0.1565\n",
      "Annualized Sharpe Ratio: 0.1666\n",
      "\n",
      "Regularized Tangency Portfolio Statistics:\n",
      "Annualized Mean Return: 0.2860\n",
      "Annualized Volatility: 0.1480\n",
      "Annualized Sharpe Ratio: 0.1610\n"
     ]
    }
   ],
   "source": [
    "# Define a function to calculate portfolio returns\n",
    "def portfolio_returns(weights, data):\n",
    "    return data @ weights\n",
    "\n",
    "# Define a function to calculate Sharpe ratio\n",
    "def sharpe_ratio(portfolio_return, portfolio_volatility, risk_free_rate=0):\n",
    "    excess_return = np.mean(portfolio_return) - risk_free_rate\n",
    "    return excess_return / portfolio_volatility\n",
    "\n",
    "# Define a function to calculate annualized statistics\n",
    "def annualized_statistics(portfolio_return, risk_free_rate=0, periods_per_year=12):\n",
    "    mean_return = np.mean(portfolio_return) * periods_per_year\n",
    "    volatility = np.std(portfolio_return) * np.sqrt(periods_per_year)\n",
    "    sharpe = sharpe_ratio(portfolio_return, volatility, risk_free_rate)\n",
    "    return mean_return, volatility, sharpe\n",
    "\n",
    "# Calculate portfolio returns for traditional and regularized portfolios\n",
    "traditional_portfolio_returns = portfolio_returns(traditional_weights, numeric_data)\n",
    "regularized_portfolio_returns = portfolio_returns(regularized_weights, numeric_data)\n",
    "\n",
    "# Calculate annualized statistics for the traditional portfolio\n",
    "traditional_mean_return, traditional_volatility, traditional_sharpe = annualized_statistics(traditional_portfolio_returns)\n",
    "\n",
    "# Calculate annualized statistics for the regularized portfolio\n",
    "regularized_mean_return, regularized_volatility, regularized_sharpe = annualized_statistics(regularized_portfolio_returns)\n",
    "\n",
    "# Print the results for both portfolios\n",
    "print(\"Traditional Tangency Portfolio Statistics:\")\n",
    "print(f\"Annualized Mean Return: {traditional_mean_return:.4f}\")\n",
    "print(f\"Annualized Volatility: {traditional_volatility:.4f}\")\n",
    "print(f\"Annualized Sharpe Ratio: {traditional_sharpe:.4f}\")\n",
    "\n",
    "print(\"\\nRegularized Tangency Portfolio Statistics:\")\n",
    "print(f\"Annualized Mean Return: {regularized_mean_return:.4f}\")\n",
    "print(f\"Annualized Volatility: {regularized_volatility:.4f}\")\n",
    "print(f\"Annualized Sharpe Ratio: {regularized_sharpe:.4f}\")\n"
   ]
  },
  {
   "cell_type": "markdown",
   "id": "eb4f7e39",
   "metadata": {},
   "source": [
    "### 3.\n",
    "\n",
    "Use the weights calculated in question (2.2) to produce portfolio returns out-of-sample for both the Traditional and Regularized portfolio (from January 2019 onwards). \n",
    "\n",
    "Report the **last 3 returns** of both portfolios in the out-of-sample (the traditional tangency portfolio and the regularized tangency portfolio)."
   ]
  },
  {
   "cell_type": "code",
   "execution_count": 89,
   "id": "ff53d9d8",
   "metadata": {},
   "outputs": [
    {
     "name": "stdout",
     "output_type": "stream",
     "text": [
      "Last 3 Out-of-Sample Returns for Traditional Tangency Portfolio:\n",
      "date\n",
      "2024-07-31   -0.013441\n",
      "2024-08-31    0.076106\n",
      "2024-09-30   -0.022067\n",
      "dtype: float64\n",
      "\n",
      "Last 3 Out-of-Sample Returns for Regularized Tangency Portfolio:\n",
      "date\n",
      "2024-07-31   -0.010655\n",
      "2024-08-31    0.057893\n",
      "2024-09-30   -0.014555\n",
      "dtype: float64\n"
     ]
    }
   ],
   "source": [
    "# Load the out-of-sample data (from January 2019 onwards)\n",
    "out_of_sample_data = pd.read_excel(file_path, sheet_name='stocks excess returns', index_col='date')\n",
    "\n",
    "# Filter the out-of-sample period (from January 2019 onwards)\n",
    "out_of_sample_data = out_of_sample_data.loc['2019-01-01':]\n",
    "\n",
    "# Calculate out-of-sample portfolio returns for traditional and regularized portfolios\n",
    "traditional_out_of_sample_returns = portfolio_returns(traditional_weights, out_of_sample_data)\n",
    "regularized_out_of_sample_returns = portfolio_returns(regularized_weights, out_of_sample_data)\n",
    "\n",
    "# Extract the last 3 returns for both portfolios\n",
    "last_3_traditional_returns = traditional_out_of_sample_returns[-3:]\n",
    "last_3_regularized_returns = regularized_out_of_sample_returns[-3:]\n",
    "\n",
    "# Display the last 3 returns\n",
    "print(\"Last 3 Out-of-Sample Returns for Traditional Tangency Portfolio:\")\n",
    "print(last_3_traditional_returns)\n",
    "\n",
    "print(\"\\nLast 3 Out-of-Sample Returns for Regularized Tangency Portfolio:\")\n",
    "print(last_3_regularized_returns)\n"
   ]
  },
  {
   "cell_type": "markdown",
   "id": "ee6aa5f9-4201-4600-b8ff-48c9af2ff5c3",
   "metadata": {},
   "source": [
    "### 4.\n",
    "\n",
    "Report the annualized summary statistics (Mean, Vol and Sharpe) of both portfolios in the out-of-sample.\n",
    "\n",
    "Note: you are using the weights optimized for the in-sample and generating statistics with the out-of-sample returns."
   ]
  },
  {
   "cell_type": "code",
   "execution_count": 90,
   "id": "bc5c4533",
   "metadata": {},
   "outputs": [
    {
     "name": "stdout",
     "output_type": "stream",
     "text": [
      "Out-of-Sample Traditional Tangency Portfolio Statistics:\n",
      "Annualized Mean Return: 0.3582\n",
      "Annualized Volatility: 0.1888\n",
      "Annualized Sharpe Ratio: 1.8970\n",
      "\n",
      "Out-of-Sample Regularized Tangency Portfolio Statistics:\n",
      "Annualized Mean Return: 0.3159\n",
      "Annualized Volatility: 0.1790\n",
      "Annualized Sharpe Ratio: 1.7648\n"
     ]
    }
   ],
   "source": [
    "def annualized_statistics(portfolio_returns, risk_free_rate=0):\n",
    "    mean_return = np.mean(portfolio_returns) * 12  # Multiply by 12 to annualize monthly returns\n",
    "    vol = np.std(portfolio_returns) * np.sqrt(12)  # Multiply by sqrt(12) to annualize monthly volatility\n",
    "    sharpe_ratio = (mean_return - risk_free_rate) / vol  \n",
    "    return mean_return, vol, sharpe_ratio\n",
    "\n",
    "# Calculate annualized summary statistics for the traditional tangency portfolio\n",
    "trad_mean_return, trad_vol, trad_sharpe = annualized_statistics(traditional_out_of_sample_returns)\n",
    "\n",
    "# Calculate annualized summary statistics for the regularized tangency portfolio\n",
    "reg_mean_return, reg_vol, reg_sharpe = annualized_statistics(regularized_out_of_sample_returns)\n",
    "\n",
    "print(\"Out-of-Sample Traditional Tangency Portfolio Statistics:\")\n",
    "print(f\"Annualized Mean Return: {trad_mean_return:.4f}\")\n",
    "print(f\"Annualized Volatility: {trad_vol:.4f}\")\n",
    "print(f\"Annualized Sharpe Ratio: {trad_sharpe:.4f}\")\n",
    "\n",
    "print(\"\\nOut-of-Sample Regularized Tangency Portfolio Statistics:\")\n",
    "print(f\"Annualized Mean Return: {reg_mean_return:.4f}\")\n",
    "print(f\"Annualized Volatility: {reg_vol:.4f}\")\n",
    "print(f\"Annualized Sharpe Ratio: {reg_sharpe:.4f}\")\n"
   ]
  },
  {
   "cell_type": "markdown",
   "id": "2147058f-7c1b-4f56-ae94-d8ae77b5a96d",
   "metadata": {},
   "source": [
    "### 5.\n",
    "Which portfolio has better adjusted by risk returns in the out-of-sample? Could there be a mathematical/optimization reason why one portfolio had better adjusted by risk performance? \n",
    "\n",
    "Relate your answer to your findings in question (2.2) (Sum of absolute weights in the traditional and regularized tangency portfolio.)"
   ]
  },
  {
   "cell_type": "markdown",
   "id": "6359aa90",
   "metadata": {},
   "source": [
    "The Traditional Tangency Portfolio had better risk-adjusted performance in the out-of-sample period (higher Sharpe Ratio), but this came with slightly higher risk (volatility). The Regularized Tangency Portfolio, while providing lower returns and a lower Sharpe Ratio, offered a more diversified and stable approach, as indicated by its lower volatility. The fact that both portfolios have a sum of absolute weights equal to 1 indicates they were fully invested with no leverage or short positions. However, the Regularized Tangency Portfolio distributes its weights more evenly across assets, which is a consequence of regularizing the covariance matrix.\n",
    "\n",
    "The traditional portfolio is optimized using the unregularized covariance matrix. This leads to a portfolio that may concentrate more on a few assets with higher expected returns relative to their volatility. This concentration can result in higher returns but also higher risk, as shown in the annualized volatility of 0.1888. In contrast, the regularized portfolio uses a covariance matrix where the off-diagonal elements are halved. This reduces the influence of extreme correlations between assets and leads to a more diversified portfolio. As a result, the risk (volatility) is slightly lower (0.1790) than that of the traditional portfolio, but the returns are also slightly lower. Regularization often smooths out overfitting to in-sample data, which can explain why the regularized portfolio’s Sharpe Ratio is lower. The regularized approach penalizes the portfolio from taking too aggressive positions based on correlations that may not hold out-of-sample."
   ]
  },
  {
   "cell_type": "markdown",
   "id": "0a8eda25",
   "metadata": {},
   "source": [
    "***"
   ]
  },
  {
   "cell_type": "markdown",
   "id": "45d9f9ca",
   "metadata": {},
   "source": [
    "# 3. Hedging and Replication\n",
    "\n",
    "For this question you will only use data from the sheet `proshares returns`.\n",
    "\n",
    "The following assets excess returns are available in this sheet:\n",
    "\n",
    "- **HDG US Equity**: ProShares Hedge Replication ET\n",
    "- **QAI US Equity**: NYLI Hedge Multi-Strategy Trac\n",
    "- **SPY US Equity**: SPDR S&P 500 ETF Trust\n",
    "- **EEM US Equity**: iShares MSCI Emerging Markets\n",
    "- **EFA US Equity**: iShares MSCI EAFE ETF\n",
    "- **EUO US Equity**: ProShares UltraShort Euro\n",
    "- **IWM US Equity**: iShares Russell 2000 ETF\n",
    "- **SPXU US Equity**: ProShares UltraPro Short S&P 5\n",
    "- **UPRO US Equity**: ProShares UltraPro S&P 500"
   ]
  },
  {
   "cell_type": "markdown",
   "id": "5001a500",
   "metadata": {},
   "source": [
    "Citation: Code thanks to the help of ChatGBT"
   ]
  },
  {
   "cell_type": "markdown",
   "id": "b6e16122",
   "metadata": {},
   "source": [
    "### 1. \n",
    "\n",
    "You work at a hedge fund.\n",
    "\n",
    "Suppose the hedge fund is long $1 million of HDG and wants to hedge the position.\n",
    "\n",
    "A junior analyst suggests that we can hedge our position by looking at some select ETFs, and then taking a position in the ETFs that will offset the risk of our HDG position.\n",
    "\n",
    "They pick QAI, SPY, EEM, UPRO, SPXU, IWM, and EFA.\n",
    "\n",
    "What dollar position would we be taking in each ETF to hedge your HDG position?"
   ]
  },
  {
   "cell_type": "code",
   "execution_count": 91,
   "id": "be89ae2a",
   "metadata": {},
   "outputs": [
    {
     "data": {
      "text/html": [
       "<div>\n",
       "<style scoped>\n",
       "    .dataframe tbody tr th:only-of-type {\n",
       "        vertical-align: middle;\n",
       "    }\n",
       "\n",
       "    .dataframe tbody tr th {\n",
       "        vertical-align: top;\n",
       "    }\n",
       "\n",
       "    .dataframe thead th {\n",
       "        text-align: right;\n",
       "    }\n",
       "</style>\n",
       "<table border=\"1\" class=\"dataframe\">\n",
       "  <thead>\n",
       "    <tr style=\"text-align: right;\">\n",
       "      <th></th>\n",
       "      <th>date</th>\n",
       "      <th>HDG US Equity</th>\n",
       "      <th>QAI US Equity</th>\n",
       "      <th>SPY US Equity</th>\n",
       "      <th>EEM US Equity</th>\n",
       "      <th>EFA US Equity</th>\n",
       "      <th>EUO US Equity</th>\n",
       "      <th>IWM US Equity</th>\n",
       "      <th>SPXU US Equity</th>\n",
       "      <th>UPRO US Equity</th>\n",
       "    </tr>\n",
       "  </thead>\n",
       "  <tbody>\n",
       "    <tr>\n",
       "      <th>0</th>\n",
       "      <td>2011-08-31</td>\n",
       "      <td>-0.027036</td>\n",
       "      <td>-0.006489</td>\n",
       "      <td>-0.054976</td>\n",
       "      <td>-0.092549</td>\n",
       "      <td>-0.087549</td>\n",
       "      <td>-0.005889</td>\n",
       "      <td>-0.088913</td>\n",
       "      <td>0.056476</td>\n",
       "      <td>-0.210854</td>\n",
       "    </tr>\n",
       "    <tr>\n",
       "      <th>1</th>\n",
       "      <td>2011-09-30</td>\n",
       "      <td>-0.032466</td>\n",
       "      <td>-0.022141</td>\n",
       "      <td>-0.069420</td>\n",
       "      <td>-0.179063</td>\n",
       "      <td>-0.108082</td>\n",
       "      <td>0.142180</td>\n",
       "      <td>-0.111505</td>\n",
       "      <td>0.190006</td>\n",
       "      <td>-0.207003</td>\n",
       "    </tr>\n",
       "    <tr>\n",
       "      <th>2</th>\n",
       "      <td>2011-10-31</td>\n",
       "      <td>0.050531</td>\n",
       "      <td>0.025239</td>\n",
       "      <td>0.109147</td>\n",
       "      <td>0.162986</td>\n",
       "      <td>0.096274</td>\n",
       "      <td>-0.069502</td>\n",
       "      <td>0.151011</td>\n",
       "      <td>-0.298828</td>\n",
       "      <td>0.326066</td>\n",
       "    </tr>\n",
       "    <tr>\n",
       "      <th>3</th>\n",
       "      <td>2011-11-30</td>\n",
       "      <td>-0.028608</td>\n",
       "      <td>-0.007964</td>\n",
       "      <td>-0.004064</td>\n",
       "      <td>-0.019724</td>\n",
       "      <td>-0.021765</td>\n",
       "      <td>0.054627</td>\n",
       "      <td>-0.003784</td>\n",
       "      <td>-0.035515</td>\n",
       "      <td>-0.033502</td>\n",
       "    </tr>\n",
       "    <tr>\n",
       "      <th>4</th>\n",
       "      <td>2011-12-31</td>\n",
       "      <td>0.012875</td>\n",
       "      <td>0.001822</td>\n",
       "      <td>0.010449</td>\n",
       "      <td>-0.042649</td>\n",
       "      <td>-0.021744</td>\n",
       "      <td>0.075581</td>\n",
       "      <td>0.005144</td>\n",
       "      <td>-0.051986</td>\n",
       "      <td>0.022939</td>\n",
       "    </tr>\n",
       "  </tbody>\n",
       "</table>\n",
       "</div>"
      ],
      "text/plain": [
       "        date  HDG US Equity  QAI US Equity  SPY US Equity  EEM US Equity  \\\n",
       "0 2011-08-31      -0.027036      -0.006489      -0.054976      -0.092549   \n",
       "1 2011-09-30      -0.032466      -0.022141      -0.069420      -0.179063   \n",
       "2 2011-10-31       0.050531       0.025239       0.109147       0.162986   \n",
       "3 2011-11-30      -0.028608      -0.007964      -0.004064      -0.019724   \n",
       "4 2011-12-31       0.012875       0.001822       0.010449      -0.042649   \n",
       "\n",
       "   EFA US Equity  EUO US Equity  IWM US Equity  SPXU US Equity  UPRO US Equity  \n",
       "0      -0.087549      -0.005889      -0.088913        0.056476       -0.210854  \n",
       "1      -0.108082       0.142180      -0.111505        0.190006       -0.207003  \n",
       "2       0.096274      -0.069502       0.151011       -0.298828        0.326066  \n",
       "3      -0.021765       0.054627      -0.003784       -0.035515       -0.033502  \n",
       "4      -0.021744       0.075581       0.005144       -0.051986        0.022939  "
      ]
     },
     "execution_count": 91,
     "metadata": {},
     "output_type": "execute_result"
    }
   ],
   "source": [
    "import statsmodels.api as sm\n",
    "\n",
    "data = pd.read_excel(file_path, sheet_name='proshares excess returns')\n",
    "data.head()"
   ]
  },
  {
   "cell_type": "code",
   "execution_count": 92,
   "id": "a1697cf7",
   "metadata": {},
   "outputs": [
    {
     "name": "stdout",
     "output_type": "stream",
     "text": [
      "Hedge Ratios for each ETF: QAI US Equity     0.151537\n",
      "SPY US Equity     0.515376\n",
      "EEM US Equity     0.044816\n",
      "UPRO US Equity   -0.140222\n",
      "SPXU US Equity    0.032654\n",
      "IWM US Equity     0.139036\n",
      "EFA US Equity     0.117000\n",
      "dtype: float64\n",
      "Dollar Positions in each ETF for hedging HDG: QAI US Equity     151537.448542\n",
      "SPY US Equity     515376.353192\n",
      "EEM US Equity      44816.294871\n",
      "UPRO US Equity   -140222.469367\n",
      "SPXU US Equity     32654.030196\n",
      "IWM US Equity     139036.207774\n",
      "EFA US Equity     117000.288623\n",
      "dtype: float64\n"
     ]
    }
   ],
   "source": [
    "etfs = ['QAI US Equity', 'SPY US Equity', 'EEM US Equity', 'UPRO US Equity', 'SPXU US Equity', 'IWM US Equity', 'EFA US Equity']\n",
    "hdg_returns = data['HDG US Equity']\n",
    "etf_returns = data[etfs]\n",
    "\n",
    "X = sm.add_constant(etf_returns)\n",
    "y = hdg_returns\n",
    "\n",
    "# Perform linear regression to find the hedge ratios\n",
    "model = sm.OLS(y, X).fit()\n",
    "hedge_ratios = model.params[1:]  \n",
    "\n",
    "print(\"Hedge Ratios for each ETF:\", hedge_ratios)\n",
    "\n",
    "# Calculate the dollar position in each ETF (hedge ratios * $1 million)\n",
    "hdg_position = 1_000_000\n",
    "hedge_positions = hedge_ratios * hdg_position\n",
    "\n",
    "# Display the dollar positions to take in each ETF\n",
    "hedge_positions.index = etfs \n",
    "print(\"Dollar Positions in each ETF for hedging HDG:\", hedge_positions)"
   ]
  },
  {
   "cell_type": "markdown",
   "id": "4917ec2d",
   "metadata": {},
   "source": [
    "### 2.\n",
    "\n",
    "#### (7pts)\n",
    "What is the gross notional of the hedge?\n",
    "\n",
    "What is the R-squared of the hedge?\n",
    "\n",
    "What do these two statistics indicate about the practical use of this hedge?"
   ]
  },
  {
   "cell_type": "code",
   "execution_count": 93,
   "id": "812be868",
   "metadata": {},
   "outputs": [
    {
     "name": "stdout",
     "output_type": "stream",
     "text": [
      "Gross Notional of the Hedge: 1140643.092565154\n",
      "R-squared of the Hedge: 0.9128835765562017\n"
     ]
    }
   ],
   "source": [
    "# Calculate the gross notional of the hedge\n",
    "gross_notional = np.sum(np.abs(hedge_positions))\n",
    "print(\"Gross Notional of the Hedge:\", gross_notional)\n",
    "\n",
    "# Calculate the R-squared of the hedge (from the linear regression model)\n",
    "r_squared = model.rsquared\n",
    "print(\"R-squared of the Hedge:\", r_squared)\n"
   ]
  },
  {
   "cell_type": "markdown",
   "id": "03c8fd3f",
   "metadata": {},
   "source": [
    "1. Gross Notional of the Hedge: 1,140,643.09\n",
    "This value tells you the total amount of exposure you have in the ETFs used to hedge the $1 million HDG position. Since the gross notional exceeds the initial HDG position ($1,140,643.09 vs. $1 million), it indicates that over-hedging was required.\n",
    "\n",
    "2. R-squared of the Hedge: 0.9129\n",
    "The R-squared value of 0.9129 indicates that the hedge explains about 91.3% of the variation in HDG’s returns. In other words, the hedge is quite effective at replicating HDG's return movements. "
   ]
  },
  {
   "attachments": {},
   "cell_type": "markdown",
   "id": "fc40b82a-d979-42c7-bbca-f7ede2c133f3",
   "metadata": {},
   "source": [
    "### 3.\n",
    "\n",
    "Suppose instead we don't want to hedge our position. We believe that the value of HDG can be *entirely* determined by some combination of the other ETFs. \n",
    "\n",
    "So, you propose the following model:\n",
    "\n",
    "$$\n",
    "HDG_t = \\beta_1 QAI_t + \\beta_2 SPY_t + \\beta_3 EEM_t + \\varepsilon_t\n",
    "$$\n",
    "\n",
    "We think any difference between the value of HDG and the value of the ETFs is a mispricing, and will revert to 0 in the future. We call such a strategy \"trading the residuals\".\n",
    "\n",
    "Therefore, if $\\varepsilon_t > 0$, we should be short HDG and long the basket, and if $\\varepsilon_t < 0$, we should be long HDG and short the basket.\n",
    "\n",
    "Now...\n",
    "* Run the model specified above and report the $\\beta$'s values.\n",
    "* After, create the \"basket\" portfolio, using the $\\beta$'s as weights (they do not need to add up to one). Report the final three values."
   ]
  },
  {
   "cell_type": "code",
   "execution_count": 94,
   "id": "42d38543",
   "metadata": {},
   "outputs": [
    {
     "name": "stdout",
     "output_type": "stream",
     "text": [
      "Beta values for QAI, SPY, EEM: const           -0.001006\n",
      "QAI US Equity    0.341458\n",
      "SPY US Equity    0.176273\n",
      "EEM US Equity    0.083082\n",
      "dtype: float64\n",
      "Final three values of the basket portfolio: 155    0.006688\n",
      "156    0.007543\n",
      "157    0.013440\n",
      "dtype: float64\n",
      "Final three residual values (ε_t): 155    0.018699\n",
      "156   -0.008949\n",
      "157   -0.004986\n",
      "dtype: float64\n"
     ]
    }
   ],
   "source": [
    "X = data[['QAI US Equity', 'SPY US Equity', 'EEM US Equity']]  \n",
    "Y = data['HDG US Equity']  \n",
    "\n",
    "X = sm.add_constant(X)\n",
    "\n",
    "# Run the linear regression model\n",
    "model = sm.OLS(Y, X).fit()\n",
    "\n",
    "# Get the β values\n",
    "beta_values = model.params\n",
    "print(\"Beta values for QAI, SPY, EEM:\", beta_values)\n",
    "\n",
    "# Residuals from the model\n",
    "residuals = model.resid\n",
    "\n",
    "# Create the basket portfolio using the β values as weights\n",
    "basket_portfolio = (beta_values['QAI US Equity'] * data['QAI US Equity'] +\n",
    "                    beta_values['SPY US Equity'] * data['SPY US Equity'] +\n",
    "                    beta_values['EEM US Equity'] * data['EEM US Equity'])\n",
    "\n",
    "# Report the final three values of the basket portfolio\n",
    "final_three_values = basket_portfolio.tail(3)\n",
    "print(\"Final three values of the basket portfolio:\", final_three_values)\n",
    "\n",
    "# Report the residuals for the final three values (ε_t)\n",
    "final_three_residuals = residuals.tail(3)\n",
    "print(\"Final three residual values (ε_t):\", final_three_residuals)"
   ]
  },
  {
   "cell_type": "markdown",
   "id": "607c71d0-bcf5-47e0-8539-7a8dc7f8e4fc",
   "metadata": {},
   "source": [
    "### 4.\n",
    "\n",
    "#### (8pts)\n",
    "\n",
    "Construct the strategy indicated by the approach in the previous problem.\n",
    "\n",
    "For a given period $t$:\n",
    "- if the $\\varepsilon_t \\leq 0$ (is negative or equal to 0), you should be long HDG 200% in HDG and short 100% in the basket portfolio **in period $t+1$**.\n",
    "- if the $\\varepsilon_t > 0$ (is positive), you should be long 200% in the basket portfolio and short 100% **in HDG in period $t+1$**.\n",
    "\n",
    "Do not worry about the look forward bias: in this scenario, you should run the model only once with the entire dataset and define your $\\varepsilon_t$ for any $t$ also considering the model that has acess to data in $t+1, t+2, ...$ to make the calculation.  \n",
    "\n",
    "Report the annualized summary statistics of this strategy (Mean, Vol and Sharpe)."
   ]
  },
  {
   "cell_type": "code",
   "execution_count": 95,
   "id": "0a8a7014",
   "metadata": {},
   "outputs": [
    {
     "name": "stdout",
     "output_type": "stream",
     "text": [
      "Annualized Mean Return: 0.0364\n",
      "Annualized Volatility: 0.0629\n",
      "Annualized Sharpe Ratio: 0.5793\n"
     ]
    }
   ],
   "source": [
    "portfolio_returns = []\n",
    "\n",
    "for t in range(len(residuals) - 1):\n",
    "    if residuals.iloc[t] <= 0:\n",
    "        # Long 200% HDG and short 100% basket portfolio\n",
    "        strategy_return = 2 * data['HDG US Equity'].iloc[t+1] - basket_portfolio.iloc[t+1]\n",
    "    else:\n",
    "        # Long 200% basket portfolio and short 100% HDG\n",
    "        strategy_return = 2 * basket_portfolio.iloc[t+1] - data['HDG US Equity'].iloc[t+1]\n",
    "    \n",
    "    portfolio_returns.append(strategy_return)\n",
    "\n",
    "# Convert the strategy returns to a pandas series\n",
    "portfolio_returns = pd.Series(portfolio_returns)\n",
    "\n",
    "# Calculate annualized summary statistics (Mean, Vol, Sharpe)\n",
    "mean_return = portfolio_returns.mean() * 12 \n",
    "volatility = portfolio_returns.std() * np.sqrt(12) \n",
    "sharpe_ratio = mean_return / volatility  \n",
    "\n",
    "print(f\"Annualized Mean Return: {mean_return:.4f}\")\n",
    "print(f\"Annualized Volatility: {volatility:.4f}\")\n",
    "print(f\"Annualized Sharpe Ratio: {sharpe_ratio:.4f}\")"
   ]
  },
  {
   "cell_type": "markdown",
   "id": "7397b033-f586-49bf-9763-489276723d8a",
   "metadata": {},
   "source": [
    "### 5.\n",
    "\n",
    "On a different matter, we are now studying QAI and want to track (replicate) it using the other available ETFs.\n",
    "\n",
    "Use an intercept and report:\n",
    "\n",
    "- $\\beta$ (and the sum of $\\beta$'s absolute value).\n",
    "- $\\alpha$ and Information Ratio.\n",
    "- $R^2$.\n",
    "- Correlation matrix between the assets used to replicate QAI."
   ]
  },
  {
   "cell_type": "code",
   "execution_count": 96,
   "id": "b4212ed8",
   "metadata": {},
   "outputs": [
    {
     "name": "stdout",
     "output_type": "stream",
     "text": [
      "Betas: HDG US Equity     0.231451\n",
      "SPY US Equity     0.565072\n",
      "EEM US Equity     0.047792\n",
      "EFA US Equity     0.032642\n",
      "EUO US Equity    -0.020484\n",
      "IWM US Equity    -0.000157\n",
      "SPXU US Equity    0.051074\n",
      "UPRO US Equity   -0.095099\n",
      "dtype: float64\n",
      "Sum of Absolute Betas: 1.0437712111088089\n",
      "Alpha (Intercept): -0.0005246832772640281\n",
      "Information Ratio: -0.09143105712970878\n",
      "R-squared: 0.8419884087094259\n",
      "Correlation Matrix:\n",
      "                 HDG US Equity  SPY US Equity  EEM US Equity  EFA US Equity  \\\n",
      "HDG US Equity        1.000000       0.873618       0.801281       0.894867   \n",
      "SPY US Equity        0.873618       1.000000       0.708186       0.865371   \n",
      "EEM US Equity        0.801281       0.708186       1.000000       0.833854   \n",
      "EFA US Equity        0.894867       0.865371       0.833854       1.000000   \n",
      "EUO US Equity       -0.419163      -0.381608      -0.601403      -0.575282   \n",
      "IWM US Equity        0.894708       0.867994       0.661675       0.784217   \n",
      "SPXU US Equity      -0.814764      -0.955545      -0.656500      -0.812151   \n",
      "UPRO US Equity       0.872975       0.996475       0.710651       0.865716   \n",
      "\n",
      "                EUO US Equity  IWM US Equity  SPXU US Equity  UPRO US Equity  \n",
      "HDG US Equity       -0.419163       0.894708       -0.814764        0.872975  \n",
      "SPY US Equity       -0.381608       0.867994       -0.955545        0.996475  \n",
      "EEM US Equity       -0.601403       0.661675       -0.656500        0.710651  \n",
      "EFA US Equity       -0.575282       0.784217       -0.812151        0.865716  \n",
      "EUO US Equity        1.000000      -0.308918        0.401212       -0.369789  \n",
      "IWM US Equity       -0.308918       1.000000       -0.805117        0.872104  \n",
      "SPXU US Equity       0.401212      -0.805117        1.000000       -0.932120  \n",
      "UPRO US Equity      -0.369789       0.872104       -0.932120        1.000000  \n"
     ]
    }
   ],
   "source": [
    "numeric_data = data.drop(columns=['date'])\n",
    "\n",
    "y = numeric_data['QAI US Equity']  \n",
    "X = numeric_data.drop(columns=['QAI US Equity'])  \n",
    "\n",
    "X = sm.add_constant(X)\n",
    "\n",
    "# Fit the linear model\n",
    "model = sm.OLS(y, X).fit()\n",
    "\n",
    "# Report the beta values and their absolute sum\n",
    "betas = model.params[1:]  # Exclude the intercept\n",
    "sum_absolute_betas = betas.abs().sum()\n",
    "\n",
    "# Report the alpha (intercept) and the Information Ratio\n",
    "alpha = model.params[0] \n",
    "residuals = model.resid\n",
    "information_ratio = alpha / residuals.std()\n",
    "\n",
    "\n",
    "r_squared = model.rsquared\n",
    "correlation_matrix = X.iloc[:, 1:].corr()  \n",
    "\n",
    "# Print the results\n",
    "print(\"Betas:\", betas)\n",
    "print(\"Sum of Absolute Betas:\", sum_absolute_betas)\n",
    "print(\"Alpha (Intercept):\", alpha)\n",
    "print(\"Information Ratio:\", information_ratio)\n",
    "print(\"R-squared:\", r_squared)\n",
    "print(\"Correlation Matrix:\\n\", correlation_matrix)"
   ]
  },
  {
   "cell_type": "markdown",
   "id": "e23fbaed-bfd0-4ba3-80b1-10282619aba9",
   "metadata": {},
   "source": [
    "### 6.\n",
    "\n",
    "Explain how good is your replication, pointing out at least one good or bad argument related to each of the statistics mentioned in the bullet points above (thus, you should have at least 4 arguments)."
   ]
  },
  {
   "cell_type": "markdown",
   "id": "aef7b4bb",
   "metadata": {},
   "source": [
    "The replication is fairly strong given the high R-squared and meaningful beta exposures, particularly with SPY. However, the negative alpha and the slightly elevated sum of betas suggest the model is not perfectly balanced, with a small risk of underperformance and potential over-leverage.\n",
    "\n",
    "Betas: The beta for SPY (0.565) indicates strong replication influence from the S&P 500. However, the sum of absolute betas slightly exceeds 1, suggesting minor over-leverage, which is not ideal.\n",
    "\n",
    "Alpha: The alpha (-0.00052) is near zero, meaning minimal tracking error, which is desirable. However, the negative value indicates consistent underperformance relative to HDG.\n",
    "\n",
    "Information Ratio: The negative Information Ratio (-0.091) implies that the replication does not add value beyond factor exposures and points to inefficiency in capturing any excess return.\n",
    "\n",
    "R-squared: An R-squared of 0.842 shows that 84.2% of HDG’s movements are captured by the model, indicating a good but not perfect fit. The remaining 15.8% suggests unique features of HDG are not fully replicated."
   ]
  },
  {
   "cell_type": "markdown",
   "id": "ecd7b8ee",
   "metadata": {},
   "source": [
    "***"
   ]
  },
  {
   "cell_type": "markdown",
   "id": "cb06f50c-cc60-4ee7-9828-bc6bff90c46d",
   "metadata": {},
   "source": [
    "# 4. "
   ]
  },
  {
   "cell_type": "markdown",
   "id": "4c6cde15-77e9-480a-ac34-0ae92694cdab",
   "metadata": {},
   "source": [
    "The data in sheet `fx carry excess returns` has **excess** daily returns for trading currencies.\n",
    "* You **do NOT need** to know anything about FX, currency, or the underlying strategies.\n",
    "* Rather, just take these return series as given.\n",
    "\n",
    "For the problems below, we will **only use** the `JPY` series."
   ]
  },
  {
   "cell_type": "markdown",
   "id": "720c31a7",
   "metadata": {},
   "source": [
    "Citation: Code thanks to the help of ChatGBT"
   ]
  },
  {
   "cell_type": "markdown",
   "id": "b827c465-d9dd-4466-bbc7-946e3fce7029",
   "metadata": {},
   "source": [
    "### 1.\n",
    "\n",
    "Calculate the `1%` VaR as follows...\n",
    "\n",
    "Empirical VaR:\n",
    "* At every point in time, calculate the `1st` quantile of the returns up to that point.\n",
    "* No need to scale the answers.\n",
    "  \n",
    "Report the VaR for the final date of the sample."
   ]
  },
  {
   "cell_type": "code",
   "execution_count": 97,
   "id": "58059759",
   "metadata": {},
   "outputs": [
    {
     "data": {
      "text/html": [
       "<div>\n",
       "<style scoped>\n",
       "    .dataframe tbody tr th:only-of-type {\n",
       "        vertical-align: middle;\n",
       "    }\n",
       "\n",
       "    .dataframe tbody tr th {\n",
       "        vertical-align: top;\n",
       "    }\n",
       "\n",
       "    .dataframe thead th {\n",
       "        text-align: right;\n",
       "    }\n",
       "</style>\n",
       "<table border=\"1\" class=\"dataframe\">\n",
       "  <thead>\n",
       "    <tr style=\"text-align: right;\">\n",
       "      <th></th>\n",
       "      <th>date</th>\n",
       "      <th>JPY</th>\n",
       "      <th>EUR</th>\n",
       "      <th>GBP</th>\n",
       "      <th>MXN</th>\n",
       "      <th>CHF</th>\n",
       "    </tr>\n",
       "  </thead>\n",
       "  <tbody>\n",
       "    <tr>\n",
       "      <th>0</th>\n",
       "      <td>2019-01-07</td>\n",
       "      <td>-0.001843</td>\n",
       "      <td>0.006810</td>\n",
       "      <td>0.004171</td>\n",
       "      <td>0.003359</td>\n",
       "      <td>0.007559</td>\n",
       "    </tr>\n",
       "    <tr>\n",
       "      <th>1</th>\n",
       "      <td>2019-01-08</td>\n",
       "      <td>-0.000324</td>\n",
       "      <td>-0.002998</td>\n",
       "      <td>-0.004770</td>\n",
       "      <td>0.000251</td>\n",
       "      <td>-0.001806</td>\n",
       "    </tr>\n",
       "    <tr>\n",
       "      <th>2</th>\n",
       "      <td>2019-01-09</td>\n",
       "      <td>0.005222</td>\n",
       "      <td>0.008793</td>\n",
       "      <td>0.005588</td>\n",
       "      <td>0.007223</td>\n",
       "      <td>0.006826</td>\n",
       "    </tr>\n",
       "    <tr>\n",
       "      <th>3</th>\n",
       "      <td>2019-01-10</td>\n",
       "      <td>-0.002486</td>\n",
       "      <td>-0.003847</td>\n",
       "      <td>-0.003358</td>\n",
       "      <td>0.005444</td>\n",
       "      <td>-0.010275</td>\n",
       "    </tr>\n",
       "    <tr>\n",
       "      <th>4</th>\n",
       "      <td>2019-01-11</td>\n",
       "      <td>-0.000865</td>\n",
       "      <td>-0.002819</td>\n",
       "      <td>0.007536</td>\n",
       "      <td>-0.000323</td>\n",
       "      <td>0.000746</td>\n",
       "    </tr>\n",
       "  </tbody>\n",
       "</table>\n",
       "</div>"
      ],
      "text/plain": [
       "        date       JPY       EUR       GBP       MXN       CHF\n",
       "0 2019-01-07 -0.001843  0.006810  0.004171  0.003359  0.007559\n",
       "1 2019-01-08 -0.000324 -0.002998 -0.004770  0.000251 -0.001806\n",
       "2 2019-01-09  0.005222  0.008793  0.005588  0.007223  0.006826\n",
       "3 2019-01-10 -0.002486 -0.003847 -0.003358  0.005444 -0.010275\n",
       "4 2019-01-11 -0.000865 -0.002819  0.007536 -0.000323  0.000746"
      ]
     },
     "execution_count": 97,
     "metadata": {},
     "output_type": "execute_result"
    }
   ],
   "source": [
    "data = pd.read_excel(file_path, sheet_name='fx carry returns')\n",
    "data.head()"
   ]
  },
  {
   "cell_type": "code",
   "execution_count": 98,
   "id": "94200a2d",
   "metadata": {},
   "outputs": [
    {
     "name": "stdout",
     "output_type": "stream",
     "text": [
      "Final VaR (1% Quantile) for the last date in the sample: -0.01717837630807654\n"
     ]
    }
   ],
   "source": [
    "import numpy as np\n",
    "\n",
    "jpy_returns = data['JPY']\n",
    "\n",
    "# Calculate the 1% empirical VaR at each point in time up to the current day\n",
    "VaR_1_percent = jpy_returns.expanding().quantile(0.01)\n",
    "\n",
    "# Report the VaR for the final date of the sample\n",
    "final_var = VaR_1_percent.iloc[-1]\n",
    "\n",
    "print(\"Final VaR (1% Quantile) for the last date in the sample:\", final_var)"
   ]
  },
  {
   "cell_type": "markdown",
   "id": "f973bfcf-8d52-4465-8513-f393b85393c4",
   "metadata": {},
   "source": [
    "### 2.\n",
    "\n",
    "Now calculate the `normal VaR` of `JPY` as follows,\n",
    "\n",
    "$$\\text{Normal VaR (1\\%)} = -2.33\\, \\sigma_t$$\n",
    "\n",
    "where $\\sigma_t$ is estimated with\n",
    "* rolling volatility.\n",
    "* using a window of `233` days.\n",
    "* without using a sample mean.\n",
    "\n",
    "Report the VaR for the final `3 days` of the sample."
   ]
  },
  {
   "cell_type": "code",
   "execution_count": 99,
   "id": "6025af7d",
   "metadata": {},
   "outputs": [
    {
     "name": "stdout",
     "output_type": "stream",
     "text": [
      "Normal VaR (1%) for the final 3 days:\n",
      "1302   -0.013358\n",
      "1303   -0.013646\n",
      "1304   -0.013844\n",
      "Name: JPY, dtype: float64\n"
     ]
    }
   ],
   "source": [
    "import numpy as np\n",
    "\n",
    "# Assuming 'JPY' column contains the excess returns for JPY\n",
    "jpy_returns = data['JPY']\n",
    "\n",
    "# Calculate rolling volatility with a window of 233 days (without using sample mean)\n",
    "rolling_volatility = jpy_returns.rolling(window=233).std()\n",
    "\n",
    "# Calculate the normal VaR as -2.33 times the rolling volatility\n",
    "normal_var = -2.33 * rolling_volatility\n",
    "\n",
    "# Report the VaR for the final 3 days of the sample\n",
    "final_var = normal_var.iloc[-3:]\n",
    "print(\"Normal VaR (1%) for the final 3 days:\")\n",
    "print(final_var)"
   ]
  },
  {
   "cell_type": "markdown",
   "id": "98805080-a0db-48bd-ab7a-34574b8ace75",
   "metadata": {},
   "source": [
    "### 3.\n",
    "\n",
    "Now calculate the `normal VaR` of `JPY` as follows,\n",
    "\n",
    "$$\\text{Normal VaR (1\\%)} = -2.33\\, \\sigma_t$$\n",
    "\n",
    "where $\\sigma_t$ is estimated with\n",
    "* EWMA volatility\n",
    "* using $\\lambda = 0.94$.\n",
    "* without using a sample mean.\n",
    "\n",
    "Report the VaR for the final `3 days` of the sample."
   ]
  },
  {
   "cell_type": "code",
   "execution_count": 100,
   "id": "145ec063",
   "metadata": {},
   "outputs": [
    {
     "name": "stdout",
     "output_type": "stream",
     "text": [
      "Normal VaR (EWMA, 1%) for the final 3 days:\n",
      "[-0.01782425 -0.01742988 -0.02014006]\n"
     ]
    }
   ],
   "source": [
    "import numpy as np\n",
    "\n",
    "lambda_ewma = 0.94\n",
    "z_score_99 = -2.33  # For 1% VaR\n",
    "initial_vol = 0.20 / np.sqrt(252)  \n",
    "returns = data['JPY']  \n",
    "\n",
    "ewma_vol = np.zeros_like(returns)\n",
    "\n",
    "ewma_vol[0] = initial_vol\n",
    "\n",
    "# Compute EWMA volatility using recursion\n",
    "for t in range(1, len(returns)):\n",
    "    ewma_vol[t] = np.sqrt((1 - lambda_ewma) * (returns[t - 1] ** 2) + lambda_ewma * (ewma_vol[t - 1] ** 2))\n",
    "\n",
    "normal_var_ewma = z_score_99 * ewma_vol\n",
    "\n",
    "# Report the VaR for the final 3 days\n",
    "final_var = normal_var_ewma[-3:]\n",
    "print(\"Normal VaR (EWMA, 1%) for the final 3 days:\")\n",
    "print(final_var)"
   ]
  },
  {
   "cell_type": "markdown",
   "id": "1778a4f4-0382-4b27-a4bd-5b980fee9f82",
   "metadata": {},
   "source": [
    "### 4.\n",
    "\n",
    "Make a plot of the three timeseries of your VaR estimates.\n",
    "\n",
    "Succinctly point out the pros / cons of these approaches."
   ]
  },
  {
   "cell_type": "code",
   "execution_count": 101,
   "id": "60df2d4c",
   "metadata": {},
   "outputs": [
    {
     "data": {
      "image/png": "[encoded data removed]",
      "text/plain": [
       "<Figure size 1000x600 with 1 Axes>"
      ]
     },
     "metadata": {},
     "output_type": "display_data"
    }
   ],
   "source": [
    "import matplotlib.pyplot as plt\n",
    "plt.figure(figsize=(10, 6))\n",
    "# Plot the three VaR estimates\n",
    "plt.plot(data['date'], VaR_1_percent, label='Historical VaR (1%)', color='blue')\n",
    "plt.plot(data['date'], normal_var, label='Normal VaR (Rolling, 1%)', color='green')\n",
    "plt.plot(data['date'], normal_var_ewma, label='Normal VaR (EWMA, 1%)', color='red')\n",
    "\n",
    "# Adding labels and legend\n",
    "plt.title('VaR Estimates over Time')\n",
    "plt.xlabel('Date')\n",
    "plt.ylabel('VaR (1%)')\n",
    "plt.legend()\n",
    "\n",
    "# Display the plot\n",
    "plt.show()"
   ]
  },
  {
   "cell_type": "markdown",
   "id": "766661e3-af58-4918-ba7e-e9aba15333da",
   "metadata": {},
   "source": [
    "### 5.\n",
    "\n",
    "What statistic do we use to judge the performance of a VaR model?\n",
    "\n",
    "Estimate and report this statistic across the VaR methods.\n",
    "\n",
    "Which VaR model do you find is best?"
   ]
  },
  {
   "cell_type": "markdown",
   "id": "04e7dc20",
   "metadata": {},
   "source": [
    "The primary statistic used to judge the performance of a VaR model is the hit ratio. This statistic checks how often the actual losses exceed the predicted VaR. For a 1% VaR model, we would expect the actual losses to exceed the VaR threshold approximately 1% of the time."
   ]
  },
  {
   "cell_type": "code",
   "execution_count": 102,
   "id": "e4b9bc20",
   "metadata": {},
   "outputs": [
    {
     "name": "stdout",
     "output_type": "stream",
     "text": [
      "Historical Hit Ratio: 2.30%\n",
      "Rolling Hit Ratio: 1.99%\n",
      "EWMA Hit Ratio: 1.99%\n"
     ]
    }
   ],
   "source": [
    "historical_hit = (returns < VaR_1_percent).sum()\n",
    "rolling_hit = (returns < normal_var).sum()\n",
    "ewma_hit = (returns < normal_var_ewma).sum()\n",
    "\n",
    "total_days = len(returns)\n",
    "\n",
    "historical_hit_rate = historical_hit / total_days\n",
    "rolling_hit_rate = rolling_hit / total_days\n",
    "ewma_hit_rate = ewma_hit / total_days\n",
    "\n",
    "print(f\"Historical Hit Ratio: {historical_hit_rate * 100:.2f}%\")\n",
    "print(f\"Rolling Hit Ratio: {rolling_hit_rate * 100:.2f}%\")\n",
    "print(f\"EWMA Hit Ratio: {ewma_hit_rate * 100:.2f}%\")\n"
   ]
  },
  {
   "cell_type": "markdown",
   "id": "a77d3314",
   "metadata": {},
   "source": [
    "The Historical VaR has a hit ratio of 2.30%, which is significantly higher than the expected 1%. This indicates that the model is underestimating risk — the actual losses are exceeding the predicted VaR too often, making it less reliable in capturing tail risk.\n",
    "\n",
    "Both the Rolling VaR and EWMA VaR have hit ratios of 1.99%, which are quite close to the expected 1%. This suggests that these models are better calibrated and offer a more balanced assessment of risk without underestimating or overestimating it significantly.\n",
    "\n",
    "If we prefer a model that responds quickly to market changes and is highly sensitive, the EWMA VaR might be best.\n",
    "If we prefer a more conservative model with fewer spikes, the Rolling VaR would be a better choice.\n",
    "\n",
    "I would prefer Rolling VaR, as it is not that super sensitive and still capture and general trend. "
   ]
  },
  {
   "cell_type": "markdown",
   "id": "cff0e17f-9126-4f11-99c0-fa9796143021",
   "metadata": {},
   "source": [
    "***"
   ]
  }
 ],
 "metadata": {
  "hide_input": false,
  "kernelspec": {
   "display_name": "Python 3 (ipykernel)",
   "language": "python",
   "name": "python3"
  },
  "language_info": {
   "codemirror_mode": {
    "name": "ipython",
    "version": 3
   },
   "file_extension": ".py",
   "mimetype": "text/x-python",
   "name": "python",
   "nbconvert_exporter": "python",
   "pygments_lexer": "ipython3",
   "version": "3.11.5"
  }
 },
 "nbformat": 4,
 "nbformat_minor": 5
}
